{
 "cells": [
  {
   "cell_type": "code",
   "execution_count": null,
   "metadata": {},
   "outputs": [],
   "source": [
    "# default_exp core"
   ]
  },
  {
   "cell_type": "raw",
   "metadata": {},
   "source": [
    "# Core functionality\n",
    "\n",
    "> Core functions"
   ]
  },
  {
   "cell_type": "code",
   "execution_count": null,
   "metadata": {},
   "outputs": [],
   "source": [
    "#hide\n",
    "from nbdev.showdoc import *"
   ]
  },
  {
   "cell_type": "code",
   "execution_count": null,
   "metadata": {},
   "outputs": [],
   "source": [
    "import re"
   ]
  },
  {
   "cell_type": "code",
   "execution_count": null,
   "metadata": {},
   "outputs": [],
   "source": [
    "#export\n",
    "import transformers\n",
    "from sklearn.metrics import confusion_matrix, ConfusionMatrixDisplay\n",
    "from dataclasses import asdict\n",
    "from collections import OrderedDict\n",
    "from typing import Union, Tuple, Sequence, Set\n",
    "from numpy.random import RandomState\n",
    "import numpy as np\n",
    "from datasets import Dataset\n",
    "from datasets import load_dataset\n",
    "from pathlib import Path\n",
    "from sklearn.model_selection import StratifiedShuffleSplit\n",
    "from torchvision.transforms import (CenterCrop, \n",
    "                                    RandomErasing,\n",
    "                                    RandomAutocontrast,\n",
    "                                    Compose, \n",
    "                                    Normalize, \n",
    "                                    RandomHorizontalFlip,\n",
    "                                    RandomResizedCrop, \n",
    "                                    Resize, \n",
    "                                    RandomAdjustSharpness,\n",
    "                                    ToTensor)\n",
    "import torch\n",
    "from transformers import AutoFeatureExtractor, TrainingArguments, Trainer\n",
    "from transformers import AutoModelForImageClassification\n",
    "from datasets import load_metric\n",
    "from rich import print\n",
    "import re\n",
    "from dataclasses import dataclass\n",
    "from typing import Dict\n",
    "import datasets"
   ]
  },
  {
   "cell_type": "code",
   "execution_count": null,
   "metadata": {},
   "outputs": [
    {
     "name": "stdout",
     "output_type": "stream",
     "text": [
      "Updated Git hooks.\n"
     ]
    }
   ],
   "source": [
    "%%bash \n",
    "git lfs update --force"
   ]
  },
  {
   "cell_type": "markdown",
   "metadata": {},
   "source": [
    "testing"
   ]
  },
  {
   "cell_type": "code",
   "execution_count": null,
   "metadata": {},
   "outputs": [],
   "source": [
    "from numpy.testing import assert_allclose\n",
    "from toolz.dicttoolz import valmap\n",
    "from collections import Counter\n",
    "from toolz import frequencies"
   ]
  },
  {
   "cell_type": "markdown",
   "metadata": {},
   "source": [
    "## Data loading"
   ]
  },
  {
   "cell_type": "code",
   "execution_count": null,
   "metadata": {},
   "outputs": [],
   "source": []
  },
  {
   "cell_type": "code",
   "execution_count": null,
   "metadata": {},
   "outputs": [
    {
     "name": "stderr",
     "output_type": "stream",
     "text": [
      "Using custom data configuration davanstrien--flysheet-2cdc8849e04b41c9\n",
      "Reusing dataset parquet (/Users/dvanstrien/.cache/huggingface/datasets/parquet/davanstrien--flysheet-2cdc8849e04b41c9/0.0.0/0b6d5799bb726b24ad7fc7be720c170d8e497f575d02d47537de9a5bac074901)\n"
     ]
    }
   ],
   "source": [
    "ds = load_dataset(\"davanstrien/flysheet\", use_auth_token=True, streaming=False, split='train')"
   ]
  },
  {
   "cell_type": "code",
   "execution_count": null,
   "metadata": {},
   "outputs": [],
   "source": [
    "f =  '/Users/dvanstrien/Documents/DS/hmd_flysheet_detection/data/Flysheet_data/CONTAINER/or_5268_fse002r/Users/dvanstrien/Documents/DS/hmd_flysheet_detection/data/Flysheet_data/CONTAINER/or_5268_fse002r (1).jpg.jpg'"
   ]
  },
  {
   "cell_type": "code",
   "execution_count": null,
   "metadata": {},
   "outputs": [
    {
     "data": {
      "text/plain": [
       "'/Users/dvanstrien/Documents/DS/hmd_flysheet_detection/data/Flysheet_data/CONTAINER/or_5268_fse002r/Users/dvanstrien/Documents/DS/hmd_flysheet_detection/data/Flysheet_data/CONTAINER/or_5268_fse002r (1).jpg.jpg'"
      ]
     },
     "execution_count": null,
     "metadata": {},
     "output_type": "execute_result"
    }
   ],
   "source": [
    "f"
   ]
  },
  {
   "cell_type": "code",
   "execution_count": null,
   "metadata": {},
   "outputs": [],
   "source": [
    "f = re.sub(r\"(\\(\\d\\))\",\"\",f)"
   ]
  },
  {
   "cell_type": "code",
   "execution_count": null,
   "metadata": {},
   "outputs": [
    {
     "data": {
      "text/plain": [
       "'/Users/dvanstrien/Documents/DS/hmd_flysheet_detection/data/Flysheet_data/CONTAINER/or_5268_fse002r/Users/dvanstrien/Documents/DS/hmd_flysheet_detection/data/Flysheet_data/CONTAINER/or_5268_fse002r '"
      ]
     },
     "execution_count": null,
     "metadata": {},
     "output_type": "execute_result"
    }
   ],
   "source": [
    "f.split('.')[0]"
   ]
  },
  {
   "cell_type": "code",
   "execution_count": null,
   "metadata": {},
   "outputs": [],
   "source": [
    "#export\n",
    "def return_base_path_deduplicated(x):\n",
    "    f = x['fpath']\n",
    "    f = re.sub(r\"(\\(\\d\\))\",\"\",f)\n",
    "    f = f.split(\".\")[0]\n",
    "    f = f.rstrip()\n",
    "    return {\"clean_path\": re.sub(r\"(\\(\\d\\))\",\"\",f)}"
   ]
  },
  {
   "cell_type": "code",
   "execution_count": null,
   "metadata": {},
   "outputs": [],
   "source": []
  },
  {
   "cell_type": "code",
   "execution_count": null,
   "metadata": {},
   "outputs": [],
   "source": [
    "#export\n",
    "def check_uniques(example, uniques, column='clean_path'):\n",
    "    if example[column] in uniques:\n",
    "        uniques.remove(example[column])\n",
    "        return True\n",
    "    else:\n",
    "        return False"
   ]
  },
  {
   "cell_type": "code",
   "execution_count": null,
   "metadata": {},
   "outputs": [
    {
     "data": {
      "text/plain": [
       "Dataset({\n",
       "    features: ['image', 'label', 'fpath'],\n",
       "    num_rows: 2061\n",
       "})"
      ]
     },
     "execution_count": null,
     "metadata": {},
     "output_type": "execute_result"
    }
   ],
   "source": [
    "ds"
   ]
  },
  {
   "cell_type": "code",
   "execution_count": null,
   "metadata": {},
   "outputs": [],
   "source": [
    "#export\n",
    "def drop_duplicates(ds):\n",
    "    ds = ds.map(return_base_path_deduplicated)\n",
    "    uniques = set(ds['clean_path'])\n",
    "    ds = ds.filter(check_uniques, fn_kwargs={\"uniques\":uniques})\n",
    "    return ds"
   ]
  },
  {
   "cell_type": "code",
   "execution_count": null,
   "metadata": {},
   "outputs": [
    {
     "name": "stderr",
     "output_type": "stream",
     "text": [
      "Loading cached processed dataset at /Users/dvanstrien/.cache/huggingface/datasets/parquet/davanstrien--flysheet-2cdc8849e04b41c9/0.0.0/0b6d5799bb726b24ad7fc7be720c170d8e497f575d02d47537de9a5bac074901/cache-b4d90f979bc430d5.arrow\n"
     ]
    },
    {
     "data": {
      "application/vnd.jupyter.widget-view+json": {
       "model_id": "5374e95c1fd341aeab7f1a46611860c5",
       "version_major": 2,
       "version_minor": 0
      },
      "text/plain": [
       "  0%|          | 0/3 [00:00<?, ?ba/s]"
      ]
     },
     "metadata": {},
     "output_type": "display_data"
    }
   ],
   "source": [
    "ds = drop_duplicates(ds)"
   ]
  },
  {
   "cell_type": "code",
   "execution_count": null,
   "metadata": {},
   "outputs": [],
   "source": [
    "#export\n",
    "def get_id(example):\n",
    "    x = example[\"fpath\"]\n",
    "    x = Path(x).name.split(\"_\")\n",
    "    return {\"id\": \"_\".join(x[:2] if len(x) >= 3 else x[:3])}"
   ]
  },
  {
   "cell_type": "code",
   "execution_count": null,
   "metadata": {},
   "outputs": [
    {
     "data": {
      "application/vnd.jupyter.widget-view+json": {
       "model_id": "0d1a00e53ddb4f8483bff2f0f89d9175",
       "version_major": 2,
       "version_minor": 0
      },
      "text/plain": [
       "  0%|          | 0/1223 [00:00<?, ?ex/s]"
      ]
     },
     "metadata": {},
     "output_type": "display_data"
    }
   ],
   "source": [
    "ds = ds.map(get_id)"
   ]
  },
  {
   "cell_type": "code",
   "execution_count": null,
   "metadata": {},
   "outputs": [
    {
     "data": {
      "text/plain": [
       "{'image': <PIL.PngImagePlugin.PngImageFile image mode=RGB size=448x248>,\n",
       " 'label': 0,\n",
       " 'fpath': '/Users/dvanstrien/Documents/DS/hmd_flysheet_detection/data/Flysheet_data/CONTAINER/add_ms_10455_fse005r.jpg',\n",
       " 'clean_path': '/Users/dvanstrien/Documents/DS/hmd_flysheet_detection/data/Flysheet_data/CONTAINER/add_ms_10455_fse005r',\n",
       " 'id': 'add_ms'}"
      ]
     },
     "execution_count": null,
     "metadata": {},
     "output_type": "execute_result"
    }
   ],
   "source": [
    "ds[0]"
   ]
  },
  {
   "cell_type": "code",
   "execution_count": null,
   "metadata": {},
   "outputs": [
    {
     "data": {
      "text/plain": [
       "Dataset({\n",
       "    features: ['image', 'label', 'fpath', 'clean_path', 'id'],\n",
       "    num_rows: 1223\n",
       "})"
      ]
     },
     "execution_count": null,
     "metadata": {},
     "output_type": "execute_result"
    }
   ],
   "source": [
    "ds"
   ]
  },
  {
   "cell_type": "markdown",
   "metadata": {},
   "source": [
    "## Train, valid, test splits"
   ]
  },
  {
   "cell_type": "code",
   "execution_count": null,
   "metadata": {},
   "outputs": [],
   "source": [
    "#export\n",
    "def split_w_stratify(\n",
    "    ds,\n",
    "    test_size: Union[int, float],\n",
    "    train_size: Union[int, float, None] = None,\n",
    "    random_state: Union[int, RandomState, None] = None,\n",
    ") -> Tuple[Dataset, Dataset]:\n",
    "    labels = ds['label']\n",
    "    label_array = np.array(labels)\n",
    "    train_inds, valid_inds = next(\n",
    "        StratifiedShuffleSplit(\n",
    "            n_splits=2, test_size=test_size, random_state=random_state\n",
    "        ).split(np.zeros(len(labels)), y=label_array)\n",
    "    )\n",
    "    return ds.select(train_inds), ds.select(valid_inds)"
   ]
  },
  {
   "cell_type": "code",
   "execution_count": null,
   "metadata": {},
   "outputs": [],
   "source": [
    "train, valid = split_w_stratify(ds, test_size=0.5)"
   ]
  },
  {
   "cell_type": "markdown",
   "metadata": {},
   "source": [
    "test frequencies "
   ]
  },
  {
   "cell_type": "code",
   "execution_count": null,
   "metadata": {},
   "outputs": [],
   "source": [
    "assert_allclose(train.shape, valid.shape,rtol=2)"
   ]
  },
  {
   "cell_type": "code",
   "execution_count": null,
   "metadata": {},
   "outputs": [
    {
     "data": {
      "text/plain": [
       "{2: 108, 6: 139, 4: 164, 3: 93, 1: 30, 0: 36, 7: 16, 5: 25}"
      ]
     },
     "execution_count": null,
     "metadata": {},
     "output_type": "execute_result"
    }
   ],
   "source": [
    "train_freqs = frequencies(train['label'])\n",
    "train_freqs"
   ]
  },
  {
   "cell_type": "code",
   "execution_count": null,
   "metadata": {},
   "outputs": [
    {
     "data": {
      "text/plain": [
       "odict_values([4.5, 3.75, 13.5, 11.625, 20.5, 3.125, 17.375, 2.0])"
      ]
     },
     "execution_count": null,
     "metadata": {},
     "output_type": "execute_result"
    }
   ],
   "source": [
    "train_percentages =  OrderedDict(sorted(valmap(lambda x: x/len(train_freqs),train_freqs).items())).values()\n",
    "train_percentages"
   ]
  },
  {
   "cell_type": "code",
   "execution_count": null,
   "metadata": {},
   "outputs": [
    {
     "data": {
      "text/plain": [
       "odict_values([4.5, 3.625, 13.625, 11.75, 20.625, 3.125, 17.375, 1.875])"
      ]
     },
     "execution_count": null,
     "metadata": {},
     "output_type": "execute_result"
    }
   ],
   "source": [
    "valid_freqs = frequencies(valid['label'])\n",
    "valid_percentages = OrderedDict(sorted(valmap(lambda x: x/len(valid_freqs),valid_freqs).items())).values()\n",
    "valid_percentages"
   ]
  },
  {
   "cell_type": "code",
   "execution_count": null,
   "metadata": {},
   "outputs": [],
   "source": [
    "assert_allclose(list(train_percentages), list(valid_percentages), atol=1)"
   ]
  },
  {
   "cell_type": "code",
   "execution_count": null,
   "metadata": {},
   "outputs": [],
   "source": [
    "#export\n",
    "def train_valid_split_w_stratify(\n",
    "    ds,\n",
    "    valid_size: Union[int,float]=None,\n",
    "    test_size: Union[int, float]=0.3,\n",
    "    train_size: Union[int, float, None] = None,\n",
    "    random_state: Union[int, RandomState, None] = None,\n",
    ") -> Tuple[Dataset,Dataset, Dataset]:\n",
    "    train, valid_test = split_w_stratify(ds, test_size=test_size)\n",
    "    valid, test = split_w_stratify(valid_test, test_size=test_size)\n",
    "    return train, valid, test"
   ]
  },
  {
   "cell_type": "code",
   "execution_count": null,
   "metadata": {},
   "outputs": [],
   "source": [
    "train, valid, test = train_valid_split_w_stratify(ds)"
   ]
  },
  {
   "cell_type": "code",
   "execution_count": null,
   "metadata": {},
   "outputs": [],
   "source": []
  },
  {
   "cell_type": "code",
   "execution_count": null,
   "metadata": {},
   "outputs": [],
   "source": [
    "#export\n",
    "def prepare_dataset(ds):\n",
    "    print(\"Preparing dataset...\")\n",
    "    print(\"dropping duplicates...\")\n",
    "    ds = drop_duplicates(ds)\n",
    "    print(\"getting ID...\")\n",
    "    ds = ds.map(get_id)    \n",
    "    print(\"creating train, valid, test splits...\")\n",
    "    train, valid, test = train_valid_split_w_stratify(ds)\n",
    "    data = {\"train\": train, \n",
    "            \"valid\": valid, \n",
    "            \"test\": test}\n",
    "    for k,v  in data.items():\n",
    "        print(f\"{k} has {len(v)} examples\")\n",
    "    return train,valid,test"
   ]
  },
  {
   "cell_type": "code",
   "execution_count": null,
   "metadata": {},
   "outputs": [
    {
     "name": "stderr",
     "output_type": "stream",
     "text": [
      "Using custom data configuration davanstrien--flysheet-2cdc8849e04b41c9\n",
      "Reusing dataset parquet (/Users/dvanstrien/.cache/huggingface/datasets/parquet/davanstrien--flysheet-2cdc8849e04b41c9/0.0.0/0b6d5799bb726b24ad7fc7be720c170d8e497f575d02d47537de9a5bac074901)\n"
     ]
    }
   ],
   "source": [
    "ds = load_dataset(\"davanstrien/flysheet\", use_auth_token=True, streaming=False, split='train')"
   ]
  },
  {
   "cell_type": "code",
   "execution_count": null,
   "metadata": {},
   "outputs": [
    {
     "data": {
      "text/html": [
       "<pre style=\"white-space:pre;overflow-x:auto;line-height:normal;font-family:Menlo,'DejaVu Sans Mono',consolas,'Courier New',monospace\">Preparing dataset<span style=\"color: #808000; text-decoration-color: #808000\">...</span>\n",
       "</pre>\n"
      ],
      "text/plain": [
       "Preparing dataset\u001b[33m...\u001b[0m\n"
      ]
     },
     "metadata": {},
     "output_type": "display_data"
    },
    {
     "data": {
      "text/html": [
       "<pre style=\"white-space:pre;overflow-x:auto;line-height:normal;font-family:Menlo,'DejaVu Sans Mono',consolas,'Courier New',monospace\">dropping duplicates<span style=\"color: #808000; text-decoration-color: #808000\">...</span>\n",
       "</pre>\n"
      ],
      "text/plain": [
       "dropping duplicates\u001b[33m...\u001b[0m\n"
      ]
     },
     "metadata": {},
     "output_type": "display_data"
    },
    {
     "name": "stderr",
     "output_type": "stream",
     "text": [
      "Loading cached processed dataset at /Users/dvanstrien/.cache/huggingface/datasets/parquet/davanstrien--flysheet-2cdc8849e04b41c9/0.0.0/0b6d5799bb726b24ad7fc7be720c170d8e497f575d02d47537de9a5bac074901/cache-b4d90f979bc430d5.arrow\n",
      "Loading cached processed dataset at /Users/dvanstrien/.cache/huggingface/datasets/parquet/davanstrien--flysheet-2cdc8849e04b41c9/0.0.0/0b6d5799bb726b24ad7fc7be720c170d8e497f575d02d47537de9a5bac074901/cache-02c3a08cf8d27641.arrow\n"
     ]
    },
    {
     "data": {
      "text/html": [
       "<pre style=\"white-space:pre;overflow-x:auto;line-height:normal;font-family:Menlo,'DejaVu Sans Mono',consolas,'Courier New',monospace\">getting ID<span style=\"color: #808000; text-decoration-color: #808000\">...</span>\n",
       "</pre>\n"
      ],
      "text/plain": [
       "getting ID\u001b[33m...\u001b[0m\n"
      ]
     },
     "metadata": {},
     "output_type": "display_data"
    },
    {
     "name": "stderr",
     "output_type": "stream",
     "text": [
      "Loading cached processed dataset at /Users/dvanstrien/.cache/huggingface/datasets/parquet/davanstrien--flysheet-2cdc8849e04b41c9/0.0.0/0b6d5799bb726b24ad7fc7be720c170d8e497f575d02d47537de9a5bac074901/cache-47c50221c587e246.arrow\n"
     ]
    },
    {
     "data": {
      "text/html": [
       "<pre style=\"white-space:pre;overflow-x:auto;line-height:normal;font-family:Menlo,'DejaVu Sans Mono',consolas,'Courier New',monospace\">creating train, valid, test splits<span style=\"color: #808000; text-decoration-color: #808000\">...</span>\n",
       "</pre>\n"
      ],
      "text/plain": [
       "creating train, valid, test splits\u001b[33m...\u001b[0m\n"
      ]
     },
     "metadata": {},
     "output_type": "display_data"
    },
    {
     "data": {
      "text/html": [
       "<pre style=\"white-space:pre;overflow-x:auto;line-height:normal;font-family:Menlo,'DejaVu Sans Mono',consolas,'Courier New',monospace\">train has <span style=\"color: #008080; text-decoration-color: #008080; font-weight: bold\">856</span> examples\n",
       "</pre>\n"
      ],
      "text/plain": [
       "train has \u001b[1;36m856\u001b[0m examples\n"
      ]
     },
     "metadata": {},
     "output_type": "display_data"
    },
    {
     "data": {
      "text/html": [
       "<pre style=\"white-space:pre;overflow-x:auto;line-height:normal;font-family:Menlo,'DejaVu Sans Mono',consolas,'Courier New',monospace\">valid has <span style=\"color: #008080; text-decoration-color: #008080; font-weight: bold\">256</span> examples\n",
       "</pre>\n"
      ],
      "text/plain": [
       "valid has \u001b[1;36m256\u001b[0m examples\n"
      ]
     },
     "metadata": {},
     "output_type": "display_data"
    },
    {
     "data": {
      "text/html": [
       "<pre style=\"white-space:pre;overflow-x:auto;line-height:normal;font-family:Menlo,'DejaVu Sans Mono',consolas,'Courier New',monospace\">test has <span style=\"color: #008080; text-decoration-color: #008080; font-weight: bold\">111</span> examples\n",
       "</pre>\n"
      ],
      "text/plain": [
       "test has \u001b[1;36m111\u001b[0m examples\n"
      ]
     },
     "metadata": {},
     "output_type": "display_data"
    },
    {
     "data": {
      "text/plain": [
       "(Dataset({\n",
       "     features: ['image', 'label', 'fpath', 'clean_path', 'id'],\n",
       "     num_rows: 856\n",
       " }),\n",
       " Dataset({\n",
       "     features: ['image', 'label', 'fpath', 'clean_path', 'id'],\n",
       "     num_rows: 256\n",
       " }),\n",
       " Dataset({\n",
       "     features: ['image', 'label', 'fpath', 'clean_path', 'id'],\n",
       "     num_rows: 111\n",
       " }))"
      ]
     },
     "execution_count": null,
     "metadata": {},
     "output_type": "execute_result"
    }
   ],
   "source": [
    "train,valid,test = prepare_dataset(ds)\n",
    "train,valid,test"
   ]
  },
  {
   "cell_type": "markdown",
   "metadata": {},
   "source": [
    "## Augmentations "
   ]
  },
  {
   "cell_type": "code",
   "execution_count": null,
   "metadata": {},
   "outputs": [],
   "source": []
  },
  {
   "cell_type": "code",
   "execution_count": null,
   "metadata": {},
   "outputs": [],
   "source": []
  },
  {
   "cell_type": "code",
   "execution_count": null,
   "metadata": {},
   "outputs": [],
   "source": [
    "model_checkpoint = \"davanstrien/vit-base-patch16-224-in21k-base-manuscripts\""
   ]
  },
  {
   "cell_type": "code",
   "execution_count": null,
   "metadata": {},
   "outputs": [],
   "source": [
    "#export\n",
    "def prepare_transforms(model_checkpoint, train_ds, valid_ds, test_ds=None):\n",
    "    feature_extractor = AutoFeatureExtractor.from_pretrained(model_checkpoint)\n",
    "    normalize = Normalize(mean=feature_extractor.image_mean, std=feature_extractor.image_std)\n",
    "    _train_transforms = Compose(\n",
    "            [\n",
    "                Resize((feature_extractor.size,feature_extractor.size)),\n",
    "                RandomAdjustSharpness(0.1),\n",
    "                RandomAutocontrast(),\n",
    "                ToTensor(),\n",
    "                normalize,\n",
    "                RandomErasing()\n",
    "            ]\n",
    "        )\n",
    "\n",
    "    _val_transforms = Compose(\n",
    "            [\n",
    "                Resize((feature_extractor.size, feature_extractor.size)),\n",
    "                ToTensor(),\n",
    "                normalize,\n",
    "            ]\n",
    "        )\n",
    "\n",
    "    def train_transforms(examples):\n",
    "        examples['pixel_values'] = [_train_transforms(image.convert(\"RGB\")) for image in examples['image']]\n",
    "        return examples\n",
    "\n",
    "    def val_transforms(examples):\n",
    "        examples['pixel_values'] = [_val_transforms(image.convert(\"RGB\")) for image in examples['image']]\n",
    "        return examples\n",
    "    if test_ds is not None:\n",
    "        test_ds.set_transform(val_transforms)\n",
    "    train_ds.set_transform(train_transforms)\n",
    "    valid_ds.set_transform(val_transforms)\n",
    "    return train_ds, valid_ds, test_ds"
   ]
  },
  {
   "cell_type": "code",
   "execution_count": null,
   "metadata": {},
   "outputs": [],
   "source": [
    "train_ds, valid_ds, test_ds = prepare_transforms(model_checkpoint, train,valid, test)"
   ]
  },
  {
   "cell_type": "code",
   "execution_count": null,
   "metadata": {},
   "outputs": [
    {
     "data": {
      "text/plain": [
       "torch.Size([3, 224, 224])"
      ]
     },
     "execution_count": null,
     "metadata": {},
     "output_type": "execute_result"
    }
   ],
   "source": [
    "train_ds[0]['pixel_values'].shape"
   ]
  },
  {
   "cell_type": "code",
   "execution_count": null,
   "metadata": {},
   "outputs": [],
   "source": [
    "#export\n",
    "@dataclass\n",
    "class flysotData:\n",
    "    train_ds: datasets.arrow_dataset.Dataset\n",
    "    valid_ds: datasets.arrow_dataset.Dataset\n",
    "    test_ds: datasets.arrow_dataset.Dataset\n",
    "    id2label: Dict[int,str]\n",
    "    label2id: Dict[str,int]"
   ]
  },
  {
   "cell_type": "code",
   "execution_count": null,
   "metadata": {},
   "outputs": [],
   "source": [
    "#export\n",
    "def prep_data(ds_checkpoint=\"davanstrien/flysheet\", model_checkpoint=None):\n",
    "    try:\n",
    "        ds = load_dataset(ds_checkpoint, use_auth_token=True, streaming=False, split='train')\n",
    "        labels = ds.info.features['label'].names\n",
    "        id2label = dict(enumerate(labels))\n",
    "        label2id = {v:k for k,v in id2label.items()}\n",
    "        train, valid, test = prepare_dataset(ds)\n",
    "        train_ds, valid_ds, test_ds = prepare_transforms(model_checkpoint, train, valid, test)\n",
    "        return flysotData(train_ds, valid_ds, test_ds, id2label, label2id)\n",
    "    except FileNotFoundError as e:\n",
    "        print(f\"{e} make sure you are logged into the Hugging Face Hub\")"
   ]
  },
  {
   "cell_type": "code",
   "execution_count": null,
   "metadata": {},
   "outputs": [
    {
     "name": "stderr",
     "output_type": "stream",
     "text": [
      "Using custom data configuration davanstrien--flysheet-2cdc8849e04b41c9\n",
      "Reusing dataset parquet (/Users/dvanstrien/.cache/huggingface/datasets/parquet/davanstrien--flysheet-2cdc8849e04b41c9/0.0.0/0b6d5799bb726b24ad7fc7be720c170d8e497f575d02d47537de9a5bac074901)\n"
     ]
    },
    {
     "data": {
      "text/html": [
       "<pre style=\"white-space:pre;overflow-x:auto;line-height:normal;font-family:Menlo,'DejaVu Sans Mono',consolas,'Courier New',monospace\">Preparing dataset<span style=\"color: #808000; text-decoration-color: #808000\">...</span>\n",
       "</pre>\n"
      ],
      "text/plain": [
       "Preparing dataset\u001b[33m...\u001b[0m\n"
      ]
     },
     "metadata": {},
     "output_type": "display_data"
    },
    {
     "data": {
      "text/html": [
       "<pre style=\"white-space:pre;overflow-x:auto;line-height:normal;font-family:Menlo,'DejaVu Sans Mono',consolas,'Courier New',monospace\">dropping duplicates<span style=\"color: #808000; text-decoration-color: #808000\">...</span>\n",
       "</pre>\n"
      ],
      "text/plain": [
       "dropping duplicates\u001b[33m...\u001b[0m\n"
      ]
     },
     "metadata": {},
     "output_type": "display_data"
    },
    {
     "name": "stderr",
     "output_type": "stream",
     "text": [
      "Loading cached processed dataset at /Users/dvanstrien/.cache/huggingface/datasets/parquet/davanstrien--flysheet-2cdc8849e04b41c9/0.0.0/0b6d5799bb726b24ad7fc7be720c170d8e497f575d02d47537de9a5bac074901/cache-b4d90f979bc430d5.arrow\n",
      "Loading cached processed dataset at /Users/dvanstrien/.cache/huggingface/datasets/parquet/davanstrien--flysheet-2cdc8849e04b41c9/0.0.0/0b6d5799bb726b24ad7fc7be720c170d8e497f575d02d47537de9a5bac074901/cache-02c3a08cf8d27641.arrow\n"
     ]
    },
    {
     "data": {
      "text/html": [
       "<pre style=\"white-space:pre;overflow-x:auto;line-height:normal;font-family:Menlo,'DejaVu Sans Mono',consolas,'Courier New',monospace\">getting ID<span style=\"color: #808000; text-decoration-color: #808000\">...</span>\n",
       "</pre>\n"
      ],
      "text/plain": [
       "getting ID\u001b[33m...\u001b[0m\n"
      ]
     },
     "metadata": {},
     "output_type": "display_data"
    },
    {
     "name": "stderr",
     "output_type": "stream",
     "text": [
      "Loading cached processed dataset at /Users/dvanstrien/.cache/huggingface/datasets/parquet/davanstrien--flysheet-2cdc8849e04b41c9/0.0.0/0b6d5799bb726b24ad7fc7be720c170d8e497f575d02d47537de9a5bac074901/cache-47c50221c587e246.arrow\n"
     ]
    },
    {
     "data": {
      "text/html": [
       "<pre style=\"white-space:pre;overflow-x:auto;line-height:normal;font-family:Menlo,'DejaVu Sans Mono',consolas,'Courier New',monospace\">creating train, valid, test splits<span style=\"color: #808000; text-decoration-color: #808000\">...</span>\n",
       "</pre>\n"
      ],
      "text/plain": [
       "creating train, valid, test splits\u001b[33m...\u001b[0m\n"
      ]
     },
     "metadata": {},
     "output_type": "display_data"
    },
    {
     "data": {
      "text/html": [
       "<pre style=\"white-space:pre;overflow-x:auto;line-height:normal;font-family:Menlo,'DejaVu Sans Mono',consolas,'Courier New',monospace\">train has <span style=\"color: #008080; text-decoration-color: #008080; font-weight: bold\">856</span> examples\n",
       "</pre>\n"
      ],
      "text/plain": [
       "train has \u001b[1;36m856\u001b[0m examples\n"
      ]
     },
     "metadata": {},
     "output_type": "display_data"
    },
    {
     "data": {
      "text/html": [
       "<pre style=\"white-space:pre;overflow-x:auto;line-height:normal;font-family:Menlo,'DejaVu Sans Mono',consolas,'Courier New',monospace\">valid has <span style=\"color: #008080; text-decoration-color: #008080; font-weight: bold\">256</span> examples\n",
       "</pre>\n"
      ],
      "text/plain": [
       "valid has \u001b[1;36m256\u001b[0m examples\n"
      ]
     },
     "metadata": {},
     "output_type": "display_data"
    },
    {
     "data": {
      "text/html": [
       "<pre style=\"white-space:pre;overflow-x:auto;line-height:normal;font-family:Menlo,'DejaVu Sans Mono',consolas,'Courier New',monospace\">test has <span style=\"color: #008080; text-decoration-color: #008080; font-weight: bold\">111</span> examples\n",
       "</pre>\n"
      ],
      "text/plain": [
       "test has \u001b[1;36m111\u001b[0m examples\n"
      ]
     },
     "metadata": {},
     "output_type": "display_data"
    },
    {
     "data": {
      "text/plain": [
       "flysotData(train_ds=Dataset({\n",
       "    features: ['image', 'label', 'fpath', 'clean_path', 'id'],\n",
       "    num_rows: 856\n",
       "}), valid_ds=Dataset({\n",
       "    features: ['image', 'label', 'fpath', 'clean_path', 'id'],\n",
       "    num_rows: 256\n",
       "}), test_ds=Dataset({\n",
       "    features: ['image', 'label', 'fpath', 'clean_path', 'id'],\n",
       "    num_rows: 111\n",
       "}), id2label={0: 'CONTAINER', 1: 'CONTROL SHOT', 2: 'COVER', 3: 'EDGE + SPINE', 4: 'FLYSHEET', 5: 'OTHER', 6: 'PAGE + FOLIO', 7: 'SCROLL'}, label2id={'CONTAINER': 0, 'CONTROL SHOT': 1, 'COVER': 2, 'EDGE + SPINE': 3, 'FLYSHEET': 4, 'OTHER': 5, 'PAGE + FOLIO': 6, 'SCROLL': 7})"
      ]
     },
     "execution_count": null,
     "metadata": {},
     "output_type": "execute_result"
    }
   ],
   "source": [
    "data = prep_data(model_checkpoint=model_checkpoint)\n",
    "data"
   ]
  },
  {
   "cell_type": "code",
   "execution_count": null,
   "metadata": {},
   "outputs": [
    {
     "data": {
      "text/plain": [
       "flysotData(train_ds=Dataset({\n",
       "    features: ['image', 'label', 'fpath', 'clean_path', 'id'],\n",
       "    num_rows: 856\n",
       "}), valid_ds=Dataset({\n",
       "    features: ['image', 'label', 'fpath', 'clean_path', 'id'],\n",
       "    num_rows: 256\n",
       "}), test_ds=Dataset({\n",
       "    features: ['image', 'label', 'fpath', 'clean_path', 'id'],\n",
       "    num_rows: 111\n",
       "}), id2label={0: 'CONTAINER', 1: 'CONTROL SHOT', 2: 'COVER', 3: 'EDGE + SPINE', 4: 'FLYSHEET', 5: 'OTHER', 6: 'PAGE + FOLIO', 7: 'SCROLL'}, label2id={'CONTAINER': 0, 'CONTROL SHOT': 1, 'COVER': 2, 'EDGE + SPINE': 3, 'FLYSHEET': 4, 'OTHER': 5, 'PAGE + FOLIO': 6, 'SCROLL': 7})"
      ]
     },
     "execution_count": null,
     "metadata": {},
     "output_type": "execute_result"
    }
   ],
   "source": [
    "data"
   ]
  },
  {
   "cell_type": "code",
   "execution_count": null,
   "metadata": {},
   "outputs": [],
   "source": [
    "from dataclasses import asdict"
   ]
  },
  {
   "cell_type": "code",
   "execution_count": null,
   "metadata": {},
   "outputs": [],
   "source": [
    "train_ds, valid_ds, test_ds, id2label, label2id = asdict(data).values()"
   ]
  },
  {
   "cell_type": "code",
   "execution_count": null,
   "metadata": {},
   "outputs": [
    {
     "data": {
      "text/plain": [
       "Dataset({\n",
       "    features: ['image', 'label', 'fpath', 'clean_path', 'id'],\n",
       "    num_rows: 856\n",
       "})"
      ]
     },
     "execution_count": null,
     "metadata": {},
     "output_type": "execute_result"
    }
   ],
   "source": [
    "train_ds"
   ]
  },
  {
   "cell_type": "markdown",
   "metadata": {},
   "source": [
    "## Model training "
   ]
  },
  {
   "cell_type": "code",
   "execution_count": null,
   "metadata": {},
   "outputs": [],
   "source": []
  },
  {
   "cell_type": "code",
   "execution_count": null,
   "metadata": {},
   "outputs": [],
   "source": [
    "#export\n",
    "def collate_fn(examples):\n",
    "    pixel_values = torch.stack([example[\"pixel_values\"] for example in examples])\n",
    "    labels = torch.tensor([example[\"label\"] for example in examples])\n",
    "    return {\"pixel_values\": pixel_values, \"labels\": labels}"
   ]
  },
  {
   "cell_type": "code",
   "execution_count": null,
   "metadata": {},
   "outputs": [],
   "source": []
  },
  {
   "cell_type": "code",
   "execution_count": null,
   "metadata": {},
   "outputs": [],
   "source": [
    "#export\n",
    "def train_model(data, \n",
    "                model_checkpoint,\n",
    "                num_epochs=50,\n",
    "                hub_model_id=\"flyswot\",\n",
    "                tune=False,\n",
    "               fp16=True):\n",
    "    transformers.logging.set_verbosity_warning()\n",
    "    train_ds, valid_ds, test_ds, id2label, label2id = asdict(data).values()\n",
    "    print(train_ds)\n",
    "    model = AutoModelForImageClassification.from_pretrained(model_checkpoint, num_labels=len(id2label),\n",
    "                                                   id2label=id2label,\n",
    "                                                  label2id=label2id, ignore_mismatched_sizes=True)\n",
    "    feature_extractor = AutoFeatureExtractor.from_pretrained(model_checkpoint)\n",
    "    args = TrainingArguments(\n",
    "    \"output_dir\",\n",
    "    save_strategy=\"epoch\",\n",
    "    evaluation_strategy=\"epoch\",\n",
    "    hub_model_id=f\"flyswot/{hub_model_id}\",\n",
    "    overwrite_output_dir=True,\n",
    "    push_to_hub=True,\n",
    "    learning_rate=2e-5,\n",
    "    per_device_train_batch_size=4, \n",
    "    per_device_eval_batch_size=4,\n",
    "    num_train_epochs=num_epochs,\n",
    "    weight_decay=0.1,disable_tqdm=False,\n",
    "    fp16=fp16,\n",
    "    load_best_model_at_end=True,\n",
    "    metric_for_best_model=\"f1\",\n",
    "    logging_dir='logs',\n",
    "    remove_unused_columns=False,\n",
    "    save_total_limit=10,\n",
    "    optim=\"adamw_torch\",\n",
    "    seed=42,    \n",
    ")\n",
    "    f1 = load_metric(\"f1\")\n",
    "\n",
    "    def compute_metrics(eval_pred):\n",
    "        predictions, labels = eval_pred\n",
    "        predictions = np.argmax(predictions, axis=1)\n",
    "        return f1.compute(predictions=predictions, references=labels, average='macro')\n",
    "\n",
    "\n",
    "    trainer = Trainer(model,\n",
    "                      args,\n",
    "    train_dataset=train_ds,\n",
    "    eval_dataset=valid_ds,\n",
    "    data_collator=collate_fn,\n",
    "    compute_metrics=compute_metrics,\n",
    "    tokenizer=feature_extractor)\n",
    "    trainer.train()\n",
    "    return trainer"
   ]
  },
  {
   "cell_type": "code",
   "execution_count": null,
   "metadata": {},
   "outputs": [
    {
     "data": {
      "text/html": [
       "<pre style=\"white-space:pre;overflow-x:auto;line-height:normal;font-family:Menlo,'DejaVu Sans Mono',consolas,'Courier New',monospace\"><span style=\"color: #800080; text-decoration-color: #800080; font-weight: bold\">Dataset</span><span style=\"font-weight: bold\">({</span>\n",
       "    features: <span style=\"font-weight: bold\">[</span><span style=\"color: #008000; text-decoration-color: #008000\">'image'</span>, <span style=\"color: #008000; text-decoration-color: #008000\">'label'</span>, <span style=\"color: #008000; text-decoration-color: #008000\">'fpath'</span>, <span style=\"color: #008000; text-decoration-color: #008000\">'clean_path'</span>, <span style=\"color: #008000; text-decoration-color: #008000\">'id'</span><span style=\"font-weight: bold\">]</span>,\n",
       "    num_rows: <span style=\"color: #008080; text-decoration-color: #008080; font-weight: bold\">856</span>\n",
       "<span style=\"font-weight: bold\">})</span>\n",
       "</pre>\n"
      ],
      "text/plain": [
       "\u001b[1;35mDataset\u001b[0m\u001b[1m(\u001b[0m\u001b[1m{\u001b[0m\n",
       "    features: \u001b[1m[\u001b[0m\u001b[32m'image'\u001b[0m, \u001b[32m'label'\u001b[0m, \u001b[32m'fpath'\u001b[0m, \u001b[32m'clean_path'\u001b[0m, \u001b[32m'id'\u001b[0m\u001b[1m]\u001b[0m,\n",
       "    num_rows: \u001b[1;36m856\u001b[0m\n",
       "\u001b[1m}\u001b[0m\u001b[1m)\u001b[0m\n"
      ]
     },
     "metadata": {},
     "output_type": "display_data"
    },
    {
     "name": "stderr",
     "output_type": "stream",
     "text": [
      "Some weights of ViTForImageClassification were not initialized from the model checkpoint at facebook/deit-tiny-patch16-224 and are newly initialized because the shapes did not match:\n",
      "- classifier.weight: found shape torch.Size([1000, 192]) in the checkpoint and torch.Size([8, 192]) in the model instantiated\n",
      "- classifier.bias: found shape torch.Size([1000]) in the checkpoint and torch.Size([8]) in the model instantiated\n",
      "You should probably TRAIN this model on a down-stream task to be able to use it for predictions and inference.\n",
      "/Users/dvanstrien/Documents/DS/flyswot-gym/output_dir is already a clone of https://huggingface.co/flyswot/flyswot. Make sure you pull the latest changes with `repo.git_pull()`.\n",
      "***** Running training *****\n",
      "  Num examples = 856\n",
      "  Num Epochs = 1\n",
      "  Instantaneous batch size per device = 4\n",
      "  Total train batch size (w. parallel, distributed & accumulation) = 4\n",
      "  Gradient Accumulation steps = 1\n",
      "  Total optimization steps = 1\n"
     ]
    },
    {
     "data": {
      "text/html": [
       "\n",
       "    <div>\n",
       "      \n",
       "      <progress value='1' max='1' style='width:300px; height:20px; vertical-align: middle;'></progress>\n",
       "      [1/1 00:15, Epoch 0/1]\n",
       "    </div>\n",
       "    <table border=\"1\" class=\"dataframe\">\n",
       "  <thead>\n",
       " <tr style=\"text-align: left;\">\n",
       "      <th>Epoch</th>\n",
       "      <th>Training Loss</th>\n",
       "      <th>Validation Loss</th>\n",
       "      <th>F1</th>\n",
       "    </tr>\n",
       "  </thead>\n",
       "  <tbody>\n",
       "    <tr>\n",
       "      <td>0</td>\n",
       "      <td>No log</td>\n",
       "      <td>2.399019</td>\n",
       "      <td>0.087347</td>\n",
       "    </tr>\n",
       "  </tbody>\n",
       "</table><p>"
      ],
      "text/plain": [
       "<IPython.core.display.HTML object>"
      ]
     },
     "metadata": {},
     "output_type": "display_data"
    },
    {
     "name": "stderr",
     "output_type": "stream",
     "text": [
      "***** Running Evaluation *****\n",
      "  Num examples = 256\n",
      "  Batch size = 4\n",
      "Saving model checkpoint to output_dir/checkpoint-1\n",
      "Configuration saved in output_dir/checkpoint-1/config.json\n",
      "Model weights saved in output_dir/checkpoint-1/pytorch_model.bin\n",
      "Feature extractor saved in output_dir/checkpoint-1/preprocessor_config.json\n",
      "Feature extractor saved in output_dir/preprocessor_config.json\n",
      "\n",
      "\n",
      "Training completed. Do not forget to share your model on huggingface.co/models =)\n",
      "\n",
      "\n",
      "Loading best model from output_dir/checkpoint-1 (score: 0.08734668909823687).\n"
     ]
    }
   ],
   "source": [
    "trainer = train_model(data, \"facebook/deit-tiny-patch16-224\",0.001, fp16=False)"
   ]
  },
  {
   "cell_type": "markdown",
   "metadata": {},
   "source": [
    "## Model management"
   ]
  },
  {
   "cell_type": "code",
   "execution_count": null,
   "metadata": {},
   "outputs": [],
   "source": []
  },
  {
   "cell_type": "code",
   "execution_count": null,
   "metadata": {},
   "outputs": [
    {
     "data": {
      "text/plain": [
       "flysotData(train_ds=Dataset({\n",
       "    features: ['image', 'label', 'fpath', 'clean_path', 'id'],\n",
       "    num_rows: 856\n",
       "}), valid_ds=Dataset({\n",
       "    features: ['image', 'label', 'fpath', 'clean_path', 'id'],\n",
       "    num_rows: 256\n",
       "}), test_ds=Dataset({\n",
       "    features: ['image', 'label', 'fpath', 'clean_path', 'id'],\n",
       "    num_rows: 111\n",
       "}), id2label={0: 'CONTAINER', 1: 'CONTROL SHOT', 2: 'COVER', 3: 'EDGE + SPINE', 4: 'FLYSHEET', 5: 'OTHER', 6: 'PAGE + FOLIO', 7: 'SCROLL'}, label2id={'CONTAINER': 0, 'CONTROL SHOT': 1, 'COVER': 2, 'EDGE + SPINE': 3, 'FLYSHEET': 4, 'OTHER': 5, 'PAGE + FOLIO': 6, 'SCROLL': 7})"
      ]
     },
     "execution_count": null,
     "metadata": {},
     "output_type": "execute_result"
    }
   ],
   "source": [
    "data"
   ]
  },
  {
   "cell_type": "markdown",
   "metadata": {},
   "source": [
    "## Model Evaluation "
   ]
  },
  {
   "cell_type": "code",
   "execution_count": null,
   "metadata": {},
   "outputs": [
    {
     "name": "stderr",
     "output_type": "stream",
     "text": [
      "***** Running Prediction *****\n",
      "  Num examples = 111\n",
      "  Batch size = 4\n"
     ]
    },
    {
     "data": {
      "text/html": [
       "\n",
       "    <div>\n",
       "      \n",
       "      <progress value='28' max='28' style='width:300px; height:20px; vertical-align: middle;'></progress>\n",
       "      [28/28 00:05]\n",
       "    </div>\n",
       "    "
      ],
      "text/plain": [
       "<IPython.core.display.HTML object>"
      ]
     },
     "metadata": {},
     "output_type": "display_data"
    }
   ],
   "source": [
    "outputs = trainer.predict(data.test_ds)"
   ]
  },
  {
   "cell_type": "code",
   "execution_count": null,
   "metadata": {},
   "outputs": [
    {
     "data": {
      "text/plain": [
       "PredictionOutput(predictions=array([[ 1.14921045e+00,  4.05975074e-01,  8.70740235e-01,\n",
       "        -1.09209657e+00,  6.32787585e-01, -1.29048228e-01,\n",
       "        -3.41558188e-01,  3.56902599e-01],\n",
       "       [ 9.84774113e-01,  1.09751928e+00,  1.16411495e+00,\n",
       "        -2.59244418e+00, -2.19925880e-01,  3.20400685e-01,\n",
       "        -8.19708705e-01,  6.28945887e-01],\n",
       "       [ 6.44316912e-01,  5.65791965e-01,  1.41761160e+00,\n",
       "        -1.56314623e+00,  5.51860094e-01,  1.04937136e+00,\n",
       "        -5.04685462e-01,  4.90324467e-01],\n",
       "       [-8.27546567e-02, -8.63272190e-01,  1.15974522e+00,\n",
       "        -5.94117939e-01, -1.20146699e-01, -7.02730045e-02,\n",
       "        -8.27956200e-02,  9.95377660e-01],\n",
       "       [-6.39546156e-01,  2.77013212e-01,  1.81744981e+00,\n",
       "        -6.93940520e-01, -1.86892785e-02,  8.04619074e-01,\n",
       "        -7.95059264e-01,  1.41602203e-01],\n",
       "       [ 8.66579056e-01,  1.15474236e+00,  8.92543048e-02,\n",
       "        -1.74649978e+00,  1.08732498e+00,  1.22921669e+00,\n",
       "         3.55019808e-01, -1.19352825e-02],\n",
       "       [ 9.30356920e-01,  1.68818581e+00,  4.66324270e-01,\n",
       "        -1.85989153e+00,  9.65678573e-01,  1.37775147e+00,\n",
       "         8.60757649e-01, -2.73383446e-02],\n",
       "       [-4.28062141e-01,  7.42048085e-01,  7.70343006e-01,\n",
       "        -1.46604502e+00,  3.24882239e-01,  1.14182770e+00,\n",
       "         5.43998301e-01, -8.60936582e-01],\n",
       "       [-3.11469823e-01,  3.91956717e-01,  4.92385566e-01,\n",
       "        -1.90277004e+00, -7.96906233e-01, -2.71592885e-01,\n",
       "         1.23505987e-01,  1.31508991e-01],\n",
       "       [ 8.30485761e-01,  8.41736674e-01,  9.54940021e-01,\n",
       "        -2.09520197e+00,  1.19739842e+00,  2.56489724e-01,\n",
       "        -4.25581455e-01,  9.82046574e-02],\n",
       "       [ 8.35441828e-01,  1.03053677e+00,  8.20341855e-02,\n",
       "        -8.28957319e-01, -1.04256284e+00,  3.09286565e-01,\n",
       "         6.79405749e-01, -8.79025221e-01],\n",
       "       [-6.47541046e-01,  8.96721065e-01,  1.28117573e+00,\n",
       "        -7.62837231e-01, -1.88929826e-01,  1.89015508e-01,\n",
       "        -7.92196572e-01,  2.08428912e-02],\n",
       "       [-8.00627410e-01, -1.62990436e-01,  7.57763088e-01,\n",
       "        -5.15381932e-01,  3.73480879e-02,  6.93811536e-01,\n",
       "        -3.43565077e-01,  8.10559839e-02],\n",
       "       [ 1.05989921e+00,  2.58831239e+00,  5.91094673e-01,\n",
       "        -2.40975213e+00,  3.69137287e-01, -7.45808408e-02,\n",
       "         1.89837962e-01,  6.26768529e-01],\n",
       "       [ 1.24358201e+00,  1.59976709e+00,  9.84476864e-01,\n",
       "        -1.28296244e+00, -1.53036881e-03,  7.25576937e-01,\n",
       "         1.65189445e-01, -7.80068934e-01],\n",
       "       [-7.04200268e-01,  3.40942770e-01,  1.92090467e-01,\n",
       "        -2.14217603e-01,  6.45686030e-01, -1.16421020e+00,\n",
       "         3.16432863e-01, -5.65203547e-01],\n",
       "       [ 9.29480731e-01,  1.01676154e+00,  7.15206027e-01,\n",
       "        -2.12666106e+00,  9.32156682e-01,  7.01805651e-01,\n",
       "        -4.65859808e-02, -1.78826761e+00],\n",
       "       [ 9.61096525e-01,  1.86358070e+00,  1.30429339e+00,\n",
       "        -1.13503850e+00, -3.79074514e-01,  1.24303138e+00,\n",
       "        -6.08571358e-02, -1.21749416e-01],\n",
       "       [ 4.03982371e-01, -2.48829946e-01,  6.48406684e-01,\n",
       "        -1.42030390e-02,  7.09137022e-01,  1.31147015e+00,\n",
       "        -1.00378954e+00, -2.57264704e-01],\n",
       "       [ 8.36418867e-01,  1.35941756e+00,  3.19890469e-01,\n",
       "        -1.16914785e+00,  2.76482999e-01,  6.45213068e-01,\n",
       "         5.76077282e-01, -4.27099079e-01],\n",
       "       [-1.98847845e-01,  1.46361434e+00,  3.66852939e-01,\n",
       "        -2.05184364e+00,  4.92964506e-01,  7.50583589e-01,\n",
       "         2.38466442e-01, -3.81185621e-01],\n",
       "       [-7.67839193e-01, -2.20990092e-01,  8.91746283e-01,\n",
       "        -1.02672613e+00, -1.95092648e-01,  1.05275476e+00,\n",
       "         7.23036170e-01,  1.32413149e+00],\n",
       "       [ 5.17505765e-01,  1.45692825e+00, -2.14241669e-01,\n",
       "        -1.13325644e+00,  3.03233087e-01, -4.59132075e-01,\n",
       "         4.67360653e-02,  6.78614080e-01],\n",
       "       [ 2.00299963e-01,  1.13388979e+00,  3.64072561e-01,\n",
       "        -1.74607027e+00,  1.98622644e-01,  8.65769923e-01,\n",
       "         1.32771587e+00, -1.54284194e-01],\n",
       "       [-6.80515617e-02,  9.47744846e-01,  4.20711040e-01,\n",
       "        -2.42837262e+00,  5.58328293e-02,  1.52994633e-01,\n",
       "        -3.95175703e-02,  1.50933973e-02],\n",
       "       [-1.58507481e-01,  1.04925680e+00,  4.78268027e-01,\n",
       "        -1.13260901e+00,  3.83130789e-01,  1.33151507e+00,\n",
       "         1.31381595e+00, -7.83948302e-01],\n",
       "       [ 5.06879807e-01,  1.58240831e+00,  3.19228172e-01,\n",
       "        -1.57210159e+00,  6.42023027e-01,  1.28272069e+00,\n",
       "        -1.37771845e-01,  8.59297574e-01],\n",
       "       [-3.38368326e-01,  5.67284942e-01,  8.13449144e-01,\n",
       "        -1.70377851e+00, -5.10783195e-01,  1.64621472e-01,\n",
       "         5.68066359e-01,  6.07065074e-02],\n",
       "       [-2.83006191e-01,  9.34249163e-01,  2.02746585e-01,\n",
       "        -2.41305327e+00, -5.22423625e-01,  6.81114495e-01,\n",
       "        -8.41180980e-02, -8.41755331e-01],\n",
       "       [-6.90103471e-01, -5.89163117e-02,  1.12187994e+00,\n",
       "        -1.81811738e+00,  2.19005123e-01,  6.16736650e-01,\n",
       "         5.54071546e-01, -1.38228011e+00],\n",
       "       [ 2.62871474e-01,  5.09151459e-01,  8.00434113e-01,\n",
       "        -5.82455456e-01, -1.97901785e-01, -4.60597157e-01,\n",
       "         8.75737965e-01, -7.53475964e-01],\n",
       "       [-3.68482023e-01,  7.72302210e-01,  1.40255463e+00,\n",
       "        -1.67285585e+00,  4.35348392e-01,  1.26769352e+00,\n",
       "        -6.67754352e-01,  2.22128443e-02],\n",
       "       [ 1.07637867e-01,  1.43783081e+00,  6.93349838e-01,\n",
       "        -2.02838182e+00,  9.86444592e-01,  5.61987638e-01,\n",
       "         2.88712025e-01,  1.54383227e-01],\n",
       "       [ 2.80179590e-01,  1.50506330e+00,  8.72747004e-01,\n",
       "        -2.97225881e+00,  8.95124674e-01,  9.27831113e-01,\n",
       "        -4.68087971e-01, -3.34942758e-01],\n",
       "       [ 1.84520292e+00,  2.13949990e+00,  5.40492475e-01,\n",
       "        -1.20335495e+00, -1.25946462e-01,  2.02179164e-01,\n",
       "         1.29850519e+00, -6.90968812e-01],\n",
       "       [-1.15114582e+00,  1.67302549e+00,  1.03383684e+00,\n",
       "        -7.44301200e-01, -1.82361692e-01, -9.17106330e-01,\n",
       "        -1.24633014e+00, -1.71232298e-01],\n",
       "       [ 8.17685366e-01,  1.31465065e+00,  1.15805960e+00,\n",
       "        -1.05386364e+00, -3.23215760e-02,  6.53385699e-01,\n",
       "        -5.84874153e-01,  5.52785210e-02],\n",
       "       [ 5.89884877e-01,  1.31141031e+00,  9.40913379e-01,\n",
       "        -8.00710380e-01, -1.12911451e+00,  6.27739727e-01,\n",
       "        -3.11487377e-01, -3.87528330e-01],\n",
       "       [ 7.03453660e-01,  1.09691012e+00,  1.90030769e-01,\n",
       "        -1.28116536e+00, -1.54223597e+00,  1.26633775e+00,\n",
       "         3.07144463e-01,  4.35984552e-01],\n",
       "       [ 2.26694688e-01,  5.73810995e-01,  6.28574550e-01,\n",
       "        -2.24423146e+00, -3.88858497e-01,  5.18650472e-01,\n",
       "         2.11716563e-01,  9.06524509e-02],\n",
       "       [ 3.51931214e-01,  1.77921104e+00,  2.31771186e-01,\n",
       "        -5.31631589e-01,  2.06283018e-01,  7.99458861e-01,\n",
       "        -3.21138561e-01, -1.13101161e+00],\n",
       "       [ 8.19415212e-01,  1.55875051e+00,  3.75930101e-01,\n",
       "        -1.97680187e+00,  2.58270323e-01,  1.07894945e+00,\n",
       "        -2.72144079e-01,  8.30310822e-01],\n",
       "       [ 5.32048583e-01,  2.69736022e-01,  1.34461030e-01,\n",
       "        -2.10190749e+00,  1.60010576e-01,  5.09583890e-01,\n",
       "         4.01623785e-01,  4.02436644e-01],\n",
       "       [-1.37293592e-01,  7.97035396e-01,  8.72470915e-01,\n",
       "        -1.06409299e+00,  8.81892979e-01,  5.26676714e-01,\n",
       "        -2.49677867e-01, -2.18872316e-02],\n",
       "       [-4.99990694e-02,  9.33135986e-01,  9.76211250e-01,\n",
       "        -2.18967175e+00, -5.43204732e-02,  1.37824297e-01,\n",
       "         1.04225129e-01, -1.03203630e+00],\n",
       "       [ 8.29168797e-01,  1.58058691e+00,  1.83853492e-01,\n",
       "        -1.86924076e+00,  1.05320215e+00,  1.34523928e+00,\n",
       "         8.64924967e-01, -3.34289700e-01],\n",
       "       [ 3.57794225e-01,  1.62650502e+00,  5.36889315e-01,\n",
       "        -1.37371576e+00,  5.37020206e-01,  5.53622603e-01,\n",
       "        -4.82267141e-01, -1.72959752e-02],\n",
       "       [ 3.00837010e-01,  6.61425471e-01,  1.89117268e-01,\n",
       "        -3.41678023e+00,  5.77573299e-01,  1.03193641e+00,\n",
       "        -1.53935754e+00, -1.12038398e+00],\n",
       "       [ 5.81201494e-01,  7.78101921e-01, -4.77952696e-02,\n",
       "        -2.17352414e+00,  4.63030457e-01,  4.87608731e-01,\n",
       "         9.82885212e-02,  3.15502971e-01],\n",
       "       [ 6.73183382e-01,  1.29131806e+00,  2.17499542e+00,\n",
       "         2.59141117e-01,  3.15831393e-01, -8.78384292e-01,\n",
       "         2.37831712e-01, -4.06667858e-01],\n",
       "       [ 4.91693288e-01,  1.24330056e+00,  9.64715898e-01,\n",
       "        -5.93542866e-02,  2.49267489e-01,  1.08888113e+00,\n",
       "        -3.15236926e-01, -1.69805574e+00],\n",
       "       [-3.86989921e-01,  6.45477951e-01,  1.26204443e+00,\n",
       "        -1.41081715e+00, -2.20907092e-01,  3.88474241e-02,\n",
       "         5.83935082e-01, -4.85543936e-01],\n",
       "       [-4.28035706e-01,  1.00188935e+00,  1.12663436e+00,\n",
       "        -1.20447397e+00,  4.41183835e-01,  9.61933315e-01,\n",
       "        -1.18856227e+00, -8.47230017e-01],\n",
       "       [-4.68553483e-01,  1.32169199e+00,  4.42685157e-01,\n",
       "        -1.02940023e+00,  7.50440285e-02,  6.82845235e-01,\n",
       "         6.91745818e-01, -3.12265486e-01],\n",
       "       [-1.41591072e+00,  5.73553443e-01,  6.57462656e-01,\n",
       "        -1.97310460e+00, -1.88363478e-01,  2.16871232e-01,\n",
       "        -1.03153694e+00,  2.64599383e-01],\n",
       "       [-7.72909760e-01, -1.07280128e-01,  1.07924950e+00,\n",
       "        -1.14758313e+00,  6.99146152e-01,  6.93050027e-01,\n",
       "         1.56852663e-01,  1.71714768e-01],\n",
       "       [-4.10461009e-01,  4.52121705e-01,  1.39817121e-02,\n",
       "        -2.65984988e+00, -4.73108627e-02,  4.15016115e-01,\n",
       "         5.45977831e-01,  7.54673183e-01],\n",
       "       [-1.31053269e+00,  3.88796359e-01,  7.66512215e-01,\n",
       "        -1.52011955e+00,  1.17817700e+00,  2.88244218e-01,\n",
       "        -1.99557126e-01,  3.10051650e-01],\n",
       "       [ 1.72877178e-01,  1.04498172e+00,  6.38733685e-01,\n",
       "        -1.18098366e+00,  1.01847939e-01, -3.56595755e-01,\n",
       "         7.03538239e-01,  1.75867632e-01],\n",
       "       [-9.76867199e-01,  3.57546568e-01,  1.00405145e+00,\n",
       "        -4.87311572e-01,  1.43870556e+00, -1.21160483e+00,\n",
       "         1.81614250e-01,  5.99205434e-01],\n",
       "       [ 5.08289814e-01,  2.67002076e-01,  3.91694248e-01,\n",
       "        -1.70530796e+00, -1.33641362e-01,  3.04131880e-02,\n",
       "        -9.51819122e-02, -4.28443700e-01],\n",
       "       [-1.30468771e-01,  1.50369966e+00,  1.45849502e+00,\n",
       "        -1.16018999e+00,  5.57047307e-01,  3.34108144e-01,\n",
       "         4.63125706e-01, -5.71495116e-01],\n",
       "       [ 3.84650886e-01,  1.20840621e+00,  1.06218767e+00,\n",
       "        -1.75917768e+00, -2.45442614e-01, -2.00616792e-02,\n",
       "         2.60140419e-01,  2.20293924e-01],\n",
       "       [ 2.28092000e-01,  1.17469943e+00,  2.59029627e-01,\n",
       "         1.81250468e-01,  6.64516017e-02,  1.20103157e+00,\n",
       "         2.46606451e-02, -8.37491691e-01],\n",
       "       [ 5.96373267e-02,  1.34888625e+00, -6.44805878e-02,\n",
       "        -1.31425488e+00,  1.76982856e+00,  1.83514118e-01,\n",
       "        -4.35903937e-01,  3.66600752e-01],\n",
       "       [-1.53240156e+00, -3.59867483e-01,  8.09915084e-03,\n",
       "        -2.72037648e-02, -1.89853847e-01, -4.52670977e-02,\n",
       "        -2.09992290e-01,  6.66138947e-01],\n",
       "       [-1.04232840e-02,  1.56268373e-01,  1.81696677e+00,\n",
       "        -1.78738570e+00,  5.39257526e-01,  9.35069740e-01,\n",
       "         1.85570538e-01,  1.13272473e-01],\n",
       "       [ 4.65131789e-01,  1.23105812e+00,  5.10595202e-01,\n",
       "        -2.26472211e+00, -1.80545151e-01, -4.53114271e-01,\n",
       "        -1.34767509e+00,  3.81854773e-01],\n",
       "       [-3.50105971e-01,  7.25422919e-01,  1.23045966e-01,\n",
       "        -2.05450845e+00,  1.42511994e-01,  1.07873392e+00,\n",
       "         2.05591083e-01,  2.07702629e-02],\n",
       "       [ 7.01752305e-01,  1.66789520e+00,  9.25024271e-01,\n",
       "        -9.54247892e-01, -8.97920802e-02,  1.33730590e+00,\n",
       "         7.41167605e-01,  5.48841767e-02],\n",
       "       [-3.86924565e-01, -1.13437019e-01,  4.40834343e-01,\n",
       "        -1.06747937e+00, -1.01737893e+00,  2.47041404e-01,\n",
       "         2.87074447e-01, -3.43795009e-02],\n",
       "       [-8.54903996e-01,  5.08616388e-01,  1.41248775e+00,\n",
       "        -1.38731563e+00,  4.41904902e-01,  3.14414918e-01,\n",
       "         1.40903862e-02,  6.24274313e-01],\n",
       "       [ 7.12639928e-01,  1.11209249e+00,  5.33316195e-01,\n",
       "        -6.69326603e-01,  2.49882281e-01,  5.73881269e-01,\n",
       "        -6.37790501e-01, -4.11129147e-01],\n",
       "       [-2.73729376e-02,  1.64357245e+00,  2.12174320e+00,\n",
       "        -4.17928964e-01,  5.31983376e-01, -6.60795987e-01,\n",
       "        -4.58561242e-01,  2.05720440e-01],\n",
       "       [ 9.70197916e-01,  2.40675187e+00,  1.19809818e+00,\n",
       "        -7.33226061e-01,  1.06192863e+00,  2.20631540e-01,\n",
       "         1.05235398e+00, -1.17405713e+00],\n",
       "       [ 6.27159417e-01,  3.64964634e-01,  1.03612769e+00,\n",
       "        -1.62112212e+00, -1.99121684e-01,  5.22370875e-01,\n",
       "        -2.14841053e-01,  4.32667136e-01],\n",
       "       [ 6.85869932e-01,  6.80200219e-01,  1.21674716e-01,\n",
       "        -1.80748475e+00, -8.34568322e-01,  3.48850071e-01,\n",
       "        -3.64248604e-01,  2.46238455e-01],\n",
       "       [ 1.05735350e+00, -7.30494037e-02,  2.05880260e+00,\n",
       "        -1.18678498e+00, -2.86776759e-02,  5.61574399e-01,\n",
       "        -8.92951190e-01,  5.74485242e-01],\n",
       "       [-7.82106668e-02,  4.00234193e-01,  5.75137913e-01,\n",
       "        -1.88396561e+00,  7.39530742e-01,  8.58443201e-01,\n",
       "        -1.37536538e+00,  7.07255661e-01],\n",
       "       [-3.90264004e-01, -3.78977865e-01,  1.55572248e+00,\n",
       "        -1.04156137e-01,  3.12406510e-01, -7.40607083e-01,\n",
       "         4.44678515e-01,  3.86082441e-01],\n",
       "       [ 7.86234736e-01,  5.55540621e-01,  8.00756395e-01,\n",
       "        -1.85444343e+00, -1.02122508e-01,  6.22693479e-01,\n",
       "         6.05786264e-01,  1.19858429e-01],\n",
       "       [ 1.12340593e+00,  2.04215813e+00,  8.89020085e-01,\n",
       "        -3.68960559e-01, -5.02561271e-01,  6.17440879e-01,\n",
       "         1.14558899e+00, -1.22183919e+00],\n",
       "       [ 1.74141988e-01,  1.00815856e+00,  8.06807697e-01,\n",
       "        -1.97367406e+00, -1.82820097e-01,  1.80650860e-01,\n",
       "        -8.95764232e-02,  7.52332658e-02],\n",
       "       [ 1.30952501e+00,  2.20290112e+00,  1.41206002e+00,\n",
       "        -2.20046973e+00,  7.91822016e-01,  8.51157486e-01,\n",
       "         3.82104283e-03, -1.42983639e+00],\n",
       "       [-3.10020775e-01,  4.02223080e-01,  4.88889068e-01,\n",
       "        -1.96976781e+00,  8.05718824e-02,  4.41489339e-01,\n",
       "         4.28448409e-01, -2.44105235e-01],\n",
       "       [-9.05681252e-01,  1.14815450e+00,  4.35023308e-01,\n",
       "        -7.87878573e-01, -2.31455892e-01,  1.31276026e-02,\n",
       "        -1.54593229e-01, -5.00181615e-01],\n",
       "       [ 1.12179780e+00,  1.21384539e-01, -1.06544420e-01,\n",
       "        -2.37797356e+00,  6.96193635e-01, -9.92367640e-02,\n",
       "        -7.51511037e-01,  2.51219302e-01],\n",
       "       [-8.67922425e-01,  1.16279352e+00,  3.16222668e-01,\n",
       "        -1.17478740e+00,  1.22018777e-01, -9.08973739e-02,\n",
       "        -5.33709347e-01,  4.75913078e-01],\n",
       "       [ 4.36102599e-01,  5.89673162e-01,  6.29867971e-01,\n",
       "        -2.12618899e+00,  4.21585262e-01,  3.10517371e-01,\n",
       "         1.71127379e-01, -1.29740611e-01],\n",
       "       [ 2.52554029e-01,  2.27677441e+00,  9.77154911e-01,\n",
       "        -1.84198451e+00,  8.39946270e-01,  1.85814989e+00,\n",
       "        -2.58759201e-01, -1.35511923e+00],\n",
       "       [ 5.38966656e-01,  2.69746274e-01,  7.42310226e-01,\n",
       "        -2.05299735e+00,  2.61345714e-01,  1.57805353e-01,\n",
       "         2.21701533e-01,  2.96013765e-02],\n",
       "       [ 2.49347404e-01,  2.91892862e+00,  8.12707841e-01,\n",
       "        -2.86064076e+00,  8.14182609e-02, -8.99310470e-01,\n",
       "        -1.70250213e+00,  4.45461422e-01],\n",
       "       [-3.13223928e-01,  9.31492209e-01, -4.42070402e-02,\n",
       "        -1.24617171e+00, -7.00497746e-01, -3.92960936e-01,\n",
       "        -5.32563269e-01,  3.17625016e-01],\n",
       "       [-7.90978253e-01,  1.22391748e+00,  4.30749327e-01,\n",
       "        -8.69719923e-01, -1.85128987e+00,  9.25514847e-03,\n",
       "         7.73744583e-02, -1.89379215e-01],\n",
       "       [ 9.96940970e-01,  1.41567552e+00,  8.01672578e-01,\n",
       "        -1.53387105e+00,  7.40771517e-02,  9.29054677e-01,\n",
       "         1.95125446e-01,  8.74695629e-02],\n",
       "       [ 6.19489789e-01,  1.24263203e+00,  4.58398521e-01,\n",
       "        -1.69394112e+00,  6.92833066e-01,  3.11781794e-01,\n",
       "         4.34352994e-01, -3.70497435e-01],\n",
       "       [-4.07726616e-01,  7.10511208e-01,  9.66317177e-01,\n",
       "        -1.28207624e+00,  6.05820537e-01, -3.06400135e-02,\n",
       "        -2.88540125e-01,  7.95717299e-01],\n",
       "       [ 4.52167422e-01,  7.09345818e-01,  3.00192177e-01,\n",
       "        -1.95329916e+00, -2.09885016e-01, -7.54780322e-03,\n",
       "         1.89281791e-01,  5.96324325e-01],\n",
       "       [-8.07382405e-01, -2.76885182e-01,  7.59640634e-01,\n",
       "        -6.12644017e-01,  1.00465000e+00,  5.43442130e-01,\n",
       "        -1.30360216e-01,  4.73606348e-01],\n",
       "       [ 1.08612382e+00,  6.21682286e-01,  5.93632042e-01,\n",
       "        -4.96835977e-01,  1.02158856e+00,  2.35446095e-01,\n",
       "        -5.92426360e-01,  2.34970689e+00],\n",
       "       [ 7.63483465e-01,  1.90443003e+00,  7.09263802e-01,\n",
       "        -1.34321415e+00,  4.15995955e-01,  4.89366233e-01,\n",
       "         1.47020900e+00, -2.75243312e-01],\n",
       "       [ 2.32255347e-02,  2.01124921e-01,  1.18585658e+00,\n",
       "        -1.94626904e+00, -5.57311475e-01,  9.63087380e-01,\n",
       "         5.51399849e-02, -1.27309039e-01],\n",
       "       [ 1.42825460e+00,  1.33605301e+00,  9.99502361e-01,\n",
       "        -2.24803472e+00,  1.67212129e-01,  7.37950280e-02,\n",
       "        -2.51160145e-01, -2.70194143e-01],\n",
       "       [ 5.19794405e-01,  1.17303811e-01,  1.71233511e+00,\n",
       "        -1.12743366e+00,  1.11834729e+00,  3.21744680e-01,\n",
       "        -1.59935683e-01,  5.95216081e-03],\n",
       "       [-4.84751016e-01,  8.67239833e-01,  1.12394226e+00,\n",
       "        -2.44827437e+00, -1.13841999e+00,  9.73630726e-01,\n",
       "        -4.11775351e-01, -2.07702541e+00],\n",
       "       [ 1.62140653e-01,  1.01651132e+00,  7.82782257e-01,\n",
       "        -7.36217141e-01, -4.62240316e-02,  1.82632267e+00,\n",
       "        -6.78798497e-01, -6.75067067e-01],\n",
       "       [-4.58602220e-01,  3.84056151e-01,  8.45474750e-02,\n",
       "        -1.10667908e+00, -8.49241316e-01, -1.01485908e-01,\n",
       "         8.74749005e-01, -2.49562152e-02],\n",
       "       [-1.17828235e-01,  6.82652950e-01,  1.92766428e+00,\n",
       "        -1.19571757e+00,  7.36048996e-01,  4.00163323e-01,\n",
       "        -3.64951976e-02, -6.35172129e-01],\n",
       "       [ 2.43085369e-01,  3.50379407e-01,  5.06323874e-01,\n",
       "        -2.11865139e+00, -2.62543671e-02,  7.80396402e-01,\n",
       "         7.35834658e-01, -3.65476191e-01],\n",
       "       [-3.24383765e-01, -1.29295126e-01,  6.00819111e-01,\n",
       "        -6.99429810e-01,  5.60563207e-01,  1.90867007e-01,\n",
       "         1.30776584e+00, -5.58650076e-01],\n",
       "       [-5.02744727e-02,  8.74865830e-01,  3.04568987e-02,\n",
       "        -7.21294165e-01,  1.63245164e-02, -7.35688448e-01,\n",
       "         1.68962583e-01,  3.95345300e-01]], dtype=float32), label_ids=array([2, 2, 7, 0, 5, 6, 6, 6, 6, 4, 5, 6, 4, 4, 2, 3, 2, 4, 7, 4, 6, 0,\n",
       "       1, 4, 6, 6, 1, 6, 2, 3, 4, 6, 4, 3, 2, 3, 4, 4, 2, 6, 2, 4, 6, 4,\n",
       "       2, 6, 4, 3, 6, 5, 2, 3, 6, 4, 3, 0, 5, 3, 4, 3, 0, 3, 6, 2, 4, 4,\n",
       "       0, 2, 3, 4, 4, 6, 1, 3, 2, 6, 4, 3, 6, 0, 4, 4, 4, 3, 6, 2, 2, 6,\n",
       "       4, 2, 4, 2, 6, 6, 4, 2, 4, 4, 0, 1, 4, 4, 2, 7, 3, 2, 6, 3, 6, 3,\n",
       "       1]), metrics={'test_loss': 2.54483699798584, 'test_f1': 0.07716353455761776, 'test_runtime': 5.3338, 'test_samples_per_second': 20.811, 'test_steps_per_second': 5.25})"
      ]
     },
     "execution_count": null,
     "metadata": {},
     "output_type": "execute_result"
    }
   ],
   "source": [
    "outputs"
   ]
  },
  {
   "cell_type": "code",
   "execution_count": null,
   "metadata": {},
   "outputs": [],
   "source": [
    "#export\n",
    "def plot_confusion_matrix(outputs):\n",
    "    from sklearn.metrics import confusion_matrix, ConfusionMatrixDisplay\n",
    "    import matplotlib.pyplot as plt\n",
    "    fig, ax = plt.subplots(figsize=(15, 15))\n",
    "    y_true = outputs.label_ids\n",
    "    y_pred = outputs.predictions.argmax(1)\n",
    "    labels =train_ds.features['label'].names\n",
    "    cm = confusion_matrix(y_true, y_pred)\n",
    "    disp = ConfusionMatrixDisplay(confusion_matrix=cm, display_labels=labels)\n",
    "    disp.plot(xticks_rotation=45, ax=ax)\n"
   ]
  },
  {
   "cell_type": "code",
   "execution_count": null,
   "metadata": {},
   "outputs": [
    {
     "data": {
      "image/png": "[encoded data removed]",
      "text/plain": [
       "<Figure size 1080x1080 with 2 Axes>"
      ]
     },
     "metadata": {
      "needs_background": "light"
     },
     "output_type": "display_data"
    }
   ],
   "source": [
    "plot_confusion_matrix(outputs)"
   ]
  },
  {
   "cell_type": "code",
   "execution_count": null,
   "metadata": {},
   "outputs": [],
   "source": [
    "#export\n",
    "def print_classification_report(outputs):\n",
    "    from sklearn.metrics import classification_report\n",
    "    y_true = outputs.label_ids\n",
    "    y_pred = outputs.predictions.argmax(1)\n",
    "    print(classification_report(y_true, y_pred, target_names=train_ds.features['label'].names))"
   ]
  },
  {
   "cell_type": "code",
   "execution_count": null,
   "metadata": {},
   "outputs": [
    {
     "name": "stderr",
     "output_type": "stream",
     "text": [
      "/Users/dvanstrien/miniconda3/envs/flyswot-gym/lib/python3.8/site-packages/sklearn/metrics/_classification.py:1318: UndefinedMetricWarning: Precision and F-score are ill-defined and being set to 0.0 in labels with no predicted samples. Use `zero_division` parameter to control this behavior.\n",
      "  _warn_prf(average, modifier, msg_start, len(result))\n",
      "/Users/dvanstrien/miniconda3/envs/flyswot-gym/lib/python3.8/site-packages/sklearn/metrics/_classification.py:1318: UndefinedMetricWarning: Precision and F-score are ill-defined and being set to 0.0 in labels with no predicted samples. Use `zero_division` parameter to control this behavior.\n",
      "  _warn_prf(average, modifier, msg_start, len(result))\n",
      "/Users/dvanstrien/miniconda3/envs/flyswot-gym/lib/python3.8/site-packages/sklearn/metrics/_classification.py:1318: UndefinedMetricWarning: Precision and F-score are ill-defined and being set to 0.0 in labels with no predicted samples. Use `zero_division` parameter to control this behavior.\n",
      "  _warn_prf(average, modifier, msg_start, len(result))\n"
     ]
    },
    {
     "data": {
      "text/html": [
       "<pre style=\"white-space:pre;overflow-x:auto;line-height:normal;font-family:Menlo,'DejaVu Sans Mono',consolas,'Courier New',monospace\">              precision    recall  f1-score   support\n",
       "\n",
       "   CONTAINER       <span style=\"color: #008080; text-decoration-color: #008080; font-weight: bold\">0.17</span>      <span style=\"color: #008080; text-decoration-color: #008080; font-weight: bold\">0.14</span>      <span style=\"color: #008080; text-decoration-color: #008080; font-weight: bold\">0.15</span>         <span style=\"color: #008080; text-decoration-color: #008080; font-weight: bold\">7</span>\n",
       "CONTROL SHOT       <span style=\"color: #008080; text-decoration-color: #008080; font-weight: bold\">0.09</span>      <span style=\"color: #008080; text-decoration-color: #008080; font-weight: bold\">0.80</span>      <span style=\"color: #008080; text-decoration-color: #008080; font-weight: bold\">0.16</span>         <span style=\"color: #008080; text-decoration-color: #008080; font-weight: bold\">5</span>\n",
       "       COVER       <span style=\"color: #008080; text-decoration-color: #008080; font-weight: bold\">0.06</span>      <span style=\"color: #008080; text-decoration-color: #008080; font-weight: bold\">0.10</span>      <span style=\"color: #008080; text-decoration-color: #008080; font-weight: bold\">0.08</span>        <span style=\"color: #008080; text-decoration-color: #008080; font-weight: bold\">20</span>\n",
       "EDGE + SPINE       <span style=\"color: #008080; text-decoration-color: #008080; font-weight: bold\">0.00</span>      <span style=\"color: #008080; text-decoration-color: #008080; font-weight: bold\">0.00</span>      <span style=\"color: #008080; text-decoration-color: #008080; font-weight: bold\">0.00</span>        <span style=\"color: #008080; text-decoration-color: #008080; font-weight: bold\">17</span>\n",
       "    FLYSHEET       <span style=\"color: #008080; text-decoration-color: #008080; font-weight: bold\">0.43</span>      <span style=\"color: #008080; text-decoration-color: #008080; font-weight: bold\">0.10</span>      <span style=\"color: #008080; text-decoration-color: #008080; font-weight: bold\">0.16</span>        <span style=\"color: #008080; text-decoration-color: #008080; font-weight: bold\">30</span>\n",
       "       OTHER       <span style=\"color: #008080; text-decoration-color: #008080; font-weight: bold\">0.00</span>      <span style=\"color: #008080; text-decoration-color: #008080; font-weight: bold\">0.00</span>      <span style=\"color: #008080; text-decoration-color: #008080; font-weight: bold\">0.00</span>         <span style=\"color: #008080; text-decoration-color: #008080; font-weight: bold\">4</span>\n",
       "PAGE + FOLIO       <span style=\"color: #008080; text-decoration-color: #008080; font-weight: bold\">0.25</span>      <span style=\"color: #008080; text-decoration-color: #008080; font-weight: bold\">0.04</span>      <span style=\"color: #008080; text-decoration-color: #008080; font-weight: bold\">0.07</span>        <span style=\"color: #008080; text-decoration-color: #008080; font-weight: bold\">25</span>\n",
       "      SCROLL       <span style=\"color: #008080; text-decoration-color: #008080; font-weight: bold\">0.00</span>      <span style=\"color: #008080; text-decoration-color: #008080; font-weight: bold\">0.00</span>      <span style=\"color: #008080; text-decoration-color: #008080; font-weight: bold\">0.00</span>         <span style=\"color: #008080; text-decoration-color: #008080; font-weight: bold\">3</span>\n",
       "\n",
       "    accuracy                           <span style=\"color: #008080; text-decoration-color: #008080; font-weight: bold\">0.10</span>       <span style=\"color: #008080; text-decoration-color: #008080; font-weight: bold\">111</span>\n",
       "   macro avg       <span style=\"color: #008080; text-decoration-color: #008080; font-weight: bold\">0.12</span>      <span style=\"color: #008080; text-decoration-color: #008080; font-weight: bold\">0.15</span>      <span style=\"color: #008080; text-decoration-color: #008080; font-weight: bold\">0.08</span>       <span style=\"color: #008080; text-decoration-color: #008080; font-weight: bold\">111</span>\n",
       "weighted avg       <span style=\"color: #008080; text-decoration-color: #008080; font-weight: bold\">0.20</span>      <span style=\"color: #008080; text-decoration-color: #008080; font-weight: bold\">0.10</span>      <span style=\"color: #008080; text-decoration-color: #008080; font-weight: bold\">0.09</span>       <span style=\"color: #008080; text-decoration-color: #008080; font-weight: bold\">111</span>\n",
       "\n",
       "</pre>\n"
      ],
      "text/plain": [
       "              precision    recall  f1-score   support\n",
       "\n",
       "   CONTAINER       \u001b[1;36m0.17\u001b[0m      \u001b[1;36m0.14\u001b[0m      \u001b[1;36m0.15\u001b[0m         \u001b[1;36m7\u001b[0m\n",
       "CONTROL SHOT       \u001b[1;36m0.09\u001b[0m      \u001b[1;36m0.80\u001b[0m      \u001b[1;36m0.16\u001b[0m         \u001b[1;36m5\u001b[0m\n",
       "       COVER       \u001b[1;36m0.06\u001b[0m      \u001b[1;36m0.10\u001b[0m      \u001b[1;36m0.08\u001b[0m        \u001b[1;36m20\u001b[0m\n",
       "EDGE + SPINE       \u001b[1;36m0.00\u001b[0m      \u001b[1;36m0.00\u001b[0m      \u001b[1;36m0.00\u001b[0m        \u001b[1;36m17\u001b[0m\n",
       "    FLYSHEET       \u001b[1;36m0.43\u001b[0m      \u001b[1;36m0.10\u001b[0m      \u001b[1;36m0.16\u001b[0m        \u001b[1;36m30\u001b[0m\n",
       "       OTHER       \u001b[1;36m0.00\u001b[0m      \u001b[1;36m0.00\u001b[0m      \u001b[1;36m0.00\u001b[0m         \u001b[1;36m4\u001b[0m\n",
       "PAGE + FOLIO       \u001b[1;36m0.25\u001b[0m      \u001b[1;36m0.04\u001b[0m      \u001b[1;36m0.07\u001b[0m        \u001b[1;36m25\u001b[0m\n",
       "      SCROLL       \u001b[1;36m0.00\u001b[0m      \u001b[1;36m0.00\u001b[0m      \u001b[1;36m0.00\u001b[0m         \u001b[1;36m3\u001b[0m\n",
       "\n",
       "    accuracy                           \u001b[1;36m0.10\u001b[0m       \u001b[1;36m111\u001b[0m\n",
       "   macro avg       \u001b[1;36m0.12\u001b[0m      \u001b[1;36m0.15\u001b[0m      \u001b[1;36m0.08\u001b[0m       \u001b[1;36m111\u001b[0m\n",
       "weighted avg       \u001b[1;36m0.20\u001b[0m      \u001b[1;36m0.10\u001b[0m      \u001b[1;36m0.09\u001b[0m       \u001b[1;36m111\u001b[0m\n",
       "\n"
      ]
     },
     "metadata": {},
     "output_type": "display_data"
    }
   ],
   "source": [
    "print_classification_report(outputs)"
   ]
  },
  {
   "cell_type": "code",
   "execution_count": null,
   "metadata": {},
   "outputs": [],
   "source": [
    "import pandas as pd"
   ]
  },
  {
   "cell_type": "code",
   "execution_count": null,
   "metadata": {},
   "outputs": [],
   "source": [
    "y_true = outputs.label_ids\n",
    "y_pred = outputs.predictions.argmax(1)\n",
    "df = pd.DataFrame({\"y_true\":y_true,\"y_pred\": y_pred})"
   ]
  },
  {
   "cell_type": "code",
   "execution_count": null,
   "metadata": {},
   "outputs": [],
   "source": []
  }
 ],
 "metadata": {
  "kernelspec": {
   "display_name": "Python 3 (ipykernel)",
   "language": "python",
   "name": "python3"
  }
 },
 "nbformat": 4,
 "nbformat_minor": 4
}
