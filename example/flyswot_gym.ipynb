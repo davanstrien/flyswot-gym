{
 "cells": [
  {
   "cell_type": "markdown",
   "metadata": {},
   "source": [
    "# flyswot-gym 🦾\n",
    "\n",
    "This notebook moves through the steps involved in training/updating a flyswot model. \n",
    "\n",
    "> This notebook assumes you have already updated the flysheet `dataset` (see the [flyswot-gym](https://github.com/davanstrien/flyswot-gym) repository for guidance on doing this.). \n",
    "\n",
    "The notebook goes through the following steps:\n",
    "- downloading the training data\n",
    "- preparing the dataset for training the model\n",
    "- training the model \n",
    "- evaluating the model in various ways\n",
    "- making a decision about whether to save the model \n",
    "- uploading the model to the 🤗 hub\n",
    "\n",
    "**Note: this notebook is a WIP, things might change or not work properly**"
   ]
  },
  {
   "cell_type": "code",
   "execution_count": null,
   "metadata": {},
   "outputs": [
    {
     "name": "stdout",
     "output_type": "stream",
     "text": [
      "The operation couldn’t be completed. Unable to locate a Java Runtime.\n",
      "Please visit http://www.java.com for information on installing Java.\n",
      "\n"
     ]
    }
   ],
   "source": [
    "#@title Setup git and git-lfs\n",
    "!apt install git-lfs && git init && git lfs install \n",
    "!git config --global credential.helper store"
   ]
  },
  {
   "cell_type": "code",
   "execution_count": null,
   "metadata": {},
   "outputs": [],
   "source": [
    "#@title Install flyswot-gym\n",
    "!pip -q install git+https://github.com/davanstrien/flyswot-gym.git"
   ]
  },
  {
   "cell_type": "code",
   "execution_count": null,
   "metadata": {},
   "outputs": [],
   "source": [
    "from huggingface_hub import notebook_login\n",
    "from huggingface_hub import hf_api\n",
    "import torch"
   ]
  },
  {
   "cell_type": "markdown",
   "metadata": {},
   "source": [
    "### Check for we have a GPU available\n",
    "\n",
    "Google Colab gives us the option of running our code on a GPU. This is important for speeding up our training process. If the below cell fails check you have a GPU enabled. Sometimes you may have to wait a little while for Colab to have GPUs available. \n"
   ]
  },
  {
   "cell_type": "code",
   "execution_count": null,
   "metadata": {},
   "outputs": [
    {
     "ename": "AssertionError",
     "evalue": "",
     "output_type": "error",
     "traceback": [
      "\u001b[0;31m---------------------------------------------------------------------------\u001b[0m",
      "\u001b[0;31mAssertionError\u001b[0m                            Traceback (most recent call last)",
      "Input \u001b[0;32mIn [8]\u001b[0m, in \u001b[0;36m<cell line: 1>\u001b[0;34m()\u001b[0m\n\u001b[0;32m----> 1\u001b[0m \u001b[38;5;28;01massert\u001b[39;00m torch\u001b[38;5;241m.\u001b[39mcuda\u001b[38;5;241m.\u001b[39mis_available()\n",
      "\u001b[0;31mAssertionError\u001b[0m: "
     ]
    }
   ],
   "source": [
    "assert torch.cuda.is_available()"
   ]
  },
  {
   "attachments": {
    "1a28b6b0-be01-40f3-bdf8-7e9c2889c2c3.png": {
     "image/png": "[encoded data removed]"
    }
   },
   "cell_type": "markdown",
   "metadata": {},
   "source": [
    "## Define some training options\n",
    "\n",
    "We define some different training options. The first `model_checkpoint` refers to the model we *start* our training from. This is setup to use an existing flyswot model by default. If you have made massive changes to the data, or are training on a new task you may want to change this model to another model. Any `image-classification` [model](https://huggingface.co/models?pipeline_tag=image-classification) *should* work. A safe bet is to start with `facebook/convnext-tiny-224`. To use any of these models pass in the Hub id. You can get this from the top of a model page on the hub by clicking on the double square icon\n",
    "\n",
    "![Screenshot 2022-06-15 at 13.48.08.png](attachment:1a28b6b0-be01-40f3-bdf8-7e9c2889c2c3.png)\n",
    "\n",
    "The other options are `training_dataset` this should point to a dataset you've uploaded using `hugit`. \n",
    "\n",
    "The number of epochs defines how long you will train your model for. If you are fine tuning an existing flyswot model you won't need to change this much but if you are training something new you will want to increase this value. "
   ]
  },
  {
   "cell_type": "code",
   "execution_count": null,
   "metadata": {},
   "outputs": [],
   "source": [
    "#@title Define training options\n",
    "model_checkpoint = 'flyswot/convnext-tiny-224_flyswot' #@param [\"flyswot/convnext-tiny-224_flyswot\", \"davanstrien/deit_flyswot\"] {allow-input: true}\n",
    "training_dataset = \"davanstrien/hugit_hmd_flysheet\" #@param [\"flyswot/flysheet_data\"] {allow-input: true}\n",
    "number_of_epochs = 10 #@param {type:\"slider\", min:10, max:100, step:1}"
   ]
  },
  {
   "cell_type": "markdown",
   "metadata": {},
   "source": [
    "## Tips\n",
    "\n",
    "This notebook attempts to make the process of training/updating a model easier. This is partially done by creating some functions that do a bunch of different steps for you. In this notebook we often just call these functions. This means we see a couple of lines of code instead of a whole bunch of code. However, nothing is supposed to be hidden or magical because of this. If you want to know what a particular function is doing you can use a handy feature inside notebook to see what some code does. \n",
    "Placing `??` will show the source code for a function, for example, we can take a look at what `prep_data` is doing:"
   ]
  },
  {
   "cell_type": "code",
   "execution_count": null,
   "metadata": {},
   "outputs": [],
   "source": [
    "from flyswot_gym.core import prep_data"
   ]
  },
  {
   "cell_type": "code",
   "execution_count": null,
   "metadata": {},
   "outputs": [
    {
     "data": {
      "text/plain": [
       "\u001b[0;31mSignature:\u001b[0m \u001b[0mprep_data\u001b[0m\u001b[0;34m(\u001b[0m\u001b[0mds_checkpoint\u001b[0m\u001b[0;34m=\u001b[0m\u001b[0;34m'davanstrien/flysheet'\u001b[0m\u001b[0;34m,\u001b[0m \u001b[0mmodel_checkpoint\u001b[0m\u001b[0;34m=\u001b[0m\u001b[0;32mNone\u001b[0m\u001b[0;34m)\u001b[0m\u001b[0;34m\u001b[0m\u001b[0;34m\u001b[0m\u001b[0m\n",
       "\u001b[0;31mDocstring:\u001b[0m <no docstring>\n",
       "\u001b[0;31mSource:\u001b[0m   \n",
       "\u001b[0;32mdef\u001b[0m \u001b[0mprep_data\u001b[0m\u001b[0;34m(\u001b[0m\u001b[0mds_checkpoint\u001b[0m\u001b[0;34m=\u001b[0m\u001b[0;34m\"davanstrien/flysheet\"\u001b[0m\u001b[0;34m,\u001b[0m \u001b[0mmodel_checkpoint\u001b[0m\u001b[0;34m=\u001b[0m\u001b[0;32mNone\u001b[0m\u001b[0;34m)\u001b[0m\u001b[0;34m:\u001b[0m\u001b[0;34m\u001b[0m\n",
       "\u001b[0;34m\u001b[0m    \u001b[0;32mtry\u001b[0m\u001b[0;34m:\u001b[0m\u001b[0;34m\u001b[0m\n",
       "\u001b[0;34m\u001b[0m        \u001b[0mds\u001b[0m \u001b[0;34m=\u001b[0m \u001b[0mload_dataset\u001b[0m\u001b[0;34m(\u001b[0m\u001b[0mds_checkpoint\u001b[0m\u001b[0;34m,\u001b[0m \u001b[0muse_auth_token\u001b[0m\u001b[0;34m=\u001b[0m\u001b[0;32mTrue\u001b[0m\u001b[0;34m,\u001b[0m \u001b[0mstreaming\u001b[0m\u001b[0;34m=\u001b[0m\u001b[0;32mFalse\u001b[0m\u001b[0;34m,\u001b[0m \u001b[0msplit\u001b[0m\u001b[0;34m=\u001b[0m\u001b[0;34m'train'\u001b[0m\u001b[0;34m)\u001b[0m\u001b[0;34m\u001b[0m\n",
       "\u001b[0;34m\u001b[0m        \u001b[0mlabels\u001b[0m \u001b[0;34m=\u001b[0m \u001b[0mds\u001b[0m\u001b[0;34m.\u001b[0m\u001b[0minfo\u001b[0m\u001b[0;34m.\u001b[0m\u001b[0mfeatures\u001b[0m\u001b[0;34m[\u001b[0m\u001b[0;34m'label'\u001b[0m\u001b[0;34m]\u001b[0m\u001b[0;34m.\u001b[0m\u001b[0mnames\u001b[0m\u001b[0;34m\u001b[0m\n",
       "\u001b[0;34m\u001b[0m        \u001b[0mid2label\u001b[0m \u001b[0;34m=\u001b[0m \u001b[0mdict\u001b[0m\u001b[0;34m(\u001b[0m\u001b[0menumerate\u001b[0m\u001b[0;34m(\u001b[0m\u001b[0mlabels\u001b[0m\u001b[0;34m)\u001b[0m\u001b[0;34m)\u001b[0m\u001b[0;34m\u001b[0m\n",
       "\u001b[0;34m\u001b[0m        \u001b[0mlabel2id\u001b[0m \u001b[0;34m=\u001b[0m \u001b[0;34m{\u001b[0m\u001b[0mv\u001b[0m\u001b[0;34m:\u001b[0m\u001b[0mk\u001b[0m \u001b[0;32mfor\u001b[0m \u001b[0mk\u001b[0m\u001b[0;34m,\u001b[0m\u001b[0mv\u001b[0m \u001b[0;32min\u001b[0m \u001b[0mid2label\u001b[0m\u001b[0;34m.\u001b[0m\u001b[0mitems\u001b[0m\u001b[0;34m(\u001b[0m\u001b[0;34m)\u001b[0m\u001b[0;34m}\u001b[0m\u001b[0;34m\u001b[0m\n",
       "\u001b[0;34m\u001b[0m        \u001b[0mtrain\u001b[0m\u001b[0;34m,\u001b[0m \u001b[0mvalid\u001b[0m\u001b[0;34m,\u001b[0m \u001b[0mtest\u001b[0m \u001b[0;34m=\u001b[0m \u001b[0mprepare_dataset\u001b[0m\u001b[0;34m(\u001b[0m\u001b[0mds\u001b[0m\u001b[0;34m)\u001b[0m\u001b[0;34m\u001b[0m\n",
       "\u001b[0;34m\u001b[0m        \u001b[0mtrain_ds\u001b[0m\u001b[0;34m,\u001b[0m \u001b[0mvalid_ds\u001b[0m\u001b[0;34m,\u001b[0m \u001b[0mtest_ds\u001b[0m \u001b[0;34m=\u001b[0m \u001b[0mprepare_transforms\u001b[0m\u001b[0;34m(\u001b[0m\u001b[0mmodel_checkpoint\u001b[0m\u001b[0;34m,\u001b[0m \u001b[0mtrain\u001b[0m\u001b[0;34m,\u001b[0m \u001b[0mvalid\u001b[0m\u001b[0;34m,\u001b[0m \u001b[0mtest\u001b[0m\u001b[0;34m)\u001b[0m\u001b[0;34m\u001b[0m\n",
       "\u001b[0;34m\u001b[0m        \u001b[0;32mreturn\u001b[0m \u001b[0mFlyswotData\u001b[0m\u001b[0;34m(\u001b[0m\u001b[0mtrain_ds\u001b[0m\u001b[0;34m,\u001b[0m \u001b[0mvalid_ds\u001b[0m\u001b[0;34m,\u001b[0m \u001b[0mtest_ds\u001b[0m\u001b[0;34m,\u001b[0m \u001b[0mid2label\u001b[0m\u001b[0;34m,\u001b[0m \u001b[0mlabel2id\u001b[0m\u001b[0;34m)\u001b[0m\u001b[0;34m\u001b[0m\n",
       "\u001b[0;34m\u001b[0m    \u001b[0;32mexcept\u001b[0m \u001b[0mFileNotFoundError\u001b[0m \u001b[0;32mas\u001b[0m \u001b[0me\u001b[0m\u001b[0;34m:\u001b[0m\u001b[0;34m\u001b[0m\n",
       "\u001b[0;34m\u001b[0m        \u001b[0mprint\u001b[0m\u001b[0;34m(\u001b[0m\u001b[0;34mf\"{e} make sure you are logged into the Hugging Face Hub\"\u001b[0m\u001b[0;34m)\u001b[0m\u001b[0;34m\u001b[0m\u001b[0;34m\u001b[0m\u001b[0m\n",
       "\u001b[0;31mFile:\u001b[0m      ~/miniconda3/envs/flyswot-gym/lib/python3.8/site-packages/flyswot_gym/core.py\n",
       "\u001b[0;31mType:\u001b[0m      function\n"
      ]
     },
     "metadata": {},
     "output_type": "display_data"
    }
   ],
   "source": [
    "??prep_data"
   ]
  },
  {
   "cell_type": "markdown",
   "metadata": {},
   "source": [
    "This means firstly that you can see more clearly what is happening but also if you feel like it's doing the wrong thing you can copy the code an update how that step of the notebook happens. "
   ]
  },
  {
   "cell_type": "markdown",
   "metadata": {},
   "source": [
    "# Login to the 🤗 hub \n",
    "\n",
    "Since we're using private datasets and we want to have the option of pushing our models to the 🤗 hub we ned to ensure we are logged in."
   ]
  },
  {
   "cell_type": "code",
   "execution_count": null,
   "metadata": {},
   "outputs": [
    {
     "data": {
      "application/vnd.jupyter.widget-view+json": {
       "model_id": "50aed84dfee641aba1ece159667bdd54",
       "version_major": 2,
       "version_minor": 0
      },
      "text/plain": [
       "VBox(children=(HTML(value='<center> <img\\nsrc=https://huggingface.co/front/assets/huggingface_logo-noborder.sv…"
      ]
     },
     "metadata": {},
     "output_type": "display_data"
    }
   ],
   "source": [
    "notebook_login()"
   ]
  },
  {
   "cell_type": "code",
   "execution_count": null,
   "metadata": {},
   "outputs": [],
   "source": [
    "api = hf_api.HfApi()\n",
    "assert api._validate_or_retrieve_token()[0], \"not logged in! Please try cell above again\""
   ]
  },
  {
   "cell_type": "markdown",
   "metadata": {},
   "source": [
    "## Setup training data\n",
    "\n",
    "This part of the notebook setups the training data for our model. The way in which the data is processed changes depending on our model which is why we need to pass in `model_checkpoint`. "
   ]
  },
  {
   "cell_type": "code",
   "execution_count": null,
   "metadata": {},
   "outputs": [],
   "source": [
    "from flyswot_gym.core import prep_data"
   ]
  },
  {
   "cell_type": "code",
   "execution_count": null,
   "metadata": {},
   "outputs": [
    {
     "name": "stderr",
     "output_type": "stream",
     "text": [
      "Using custom data configuration davanstrien--hugit_hmd_flysheet-6becb318f00fc0f9\n",
      "Reusing dataset parquet (/Users/dvanstrien/.cache/huggingface/datasets/parquet/davanstrien--hugit_hmd_flysheet-6becb318f00fc0f9/0.0.0/0b6d5799bb726b24ad7fc7be720c170d8e497f575d02d47537de9a5bac074901)\n"
     ]
    },
    {
     "data": {
      "text/html": [
       "<pre style=\"white-space:pre;overflow-x:auto;line-height:normal;font-family:Menlo,'DejaVu Sans Mono',consolas,'Courier New',monospace\">Preparing dataset<span style=\"color: #808000; text-decoration-color: #808000\">...</span>\n",
       "</pre>\n"
      ],
      "text/plain": [
       "Preparing dataset\u001b[33m...\u001b[0m\n"
      ]
     },
     "metadata": {},
     "output_type": "display_data"
    },
    {
     "data": {
      "text/html": [
       "<pre style=\"white-space:pre;overflow-x:auto;line-height:normal;font-family:Menlo,'DejaVu Sans Mono',consolas,'Courier New',monospace\">dropping duplicates<span style=\"color: #808000; text-decoration-color: #808000\">...</span>\n",
       "</pre>\n"
      ],
      "text/plain": [
       "dropping duplicates\u001b[33m...\u001b[0m\n"
      ]
     },
     "metadata": {},
     "output_type": "display_data"
    },
    {
     "name": "stderr",
     "output_type": "stream",
     "text": [
      "Loading cached processed dataset at /Users/dvanstrien/.cache/huggingface/datasets/parquet/davanstrien--hugit_hmd_flysheet-6becb318f00fc0f9/0.0.0/0b6d5799bb726b24ad7fc7be720c170d8e497f575d02d47537de9a5bac074901/cache-5de6b5225446f1b1.arrow\n"
     ]
    },
    {
     "data": {
      "application/vnd.jupyter.widget-view+json": {
       "model_id": "b16e57ac7f6044ab951346b0c026e2e2",
       "version_major": 2,
       "version_minor": 0
      },
      "text/plain": [
       "  0%|          | 0/2 [00:00<?, ?ba/s]"
      ]
     },
     "metadata": {},
     "output_type": "display_data"
    },
    {
     "data": {
      "text/html": [
       "<pre style=\"white-space:pre;overflow-x:auto;line-height:normal;font-family:Menlo,'DejaVu Sans Mono',consolas,'Courier New',monospace\">getting ID<span style=\"color: #808000; text-decoration-color: #808000\">...</span>\n",
       "</pre>\n"
      ],
      "text/plain": [
       "getting ID\u001b[33m...\u001b[0m\n"
      ]
     },
     "metadata": {},
     "output_type": "display_data"
    },
    {
     "data": {
      "application/vnd.jupyter.widget-view+json": {
       "model_id": "b07d33b29e084e4380ad104d98091d6f",
       "version_major": 2,
       "version_minor": 0
      },
      "text/plain": [
       "  0%|          | 0/1275 [00:00<?, ?ex/s]"
      ]
     },
     "metadata": {},
     "output_type": "display_data"
    },
    {
     "data": {
      "text/html": [
       "<pre style=\"white-space:pre;overflow-x:auto;line-height:normal;font-family:Menlo,'DejaVu Sans Mono',consolas,'Courier New',monospace\">creating train, valid, test splits<span style=\"color: #808000; text-decoration-color: #808000\">...</span>\n",
       "</pre>\n"
      ],
      "text/plain": [
       "creating train, valid, test splits\u001b[33m...\u001b[0m\n"
      ]
     },
     "metadata": {},
     "output_type": "display_data"
    },
    {
     "data": {
      "text/html": [
       "<pre style=\"white-space:pre;overflow-x:auto;line-height:normal;font-family:Menlo,'DejaVu Sans Mono',consolas,'Courier New',monospace\">train has <span style=\"color: #008080; text-decoration-color: #008080; font-weight: bold\">892</span> examples\n",
       "</pre>\n"
      ],
      "text/plain": [
       "train has \u001b[1;36m892\u001b[0m examples\n"
      ]
     },
     "metadata": {},
     "output_type": "display_data"
    },
    {
     "data": {
      "text/html": [
       "<pre style=\"white-space:pre;overflow-x:auto;line-height:normal;font-family:Menlo,'DejaVu Sans Mono',consolas,'Courier New',monospace\">valid has <span style=\"color: #008080; text-decoration-color: #008080; font-weight: bold\">268</span> examples\n",
       "</pre>\n"
      ],
      "text/plain": [
       "valid has \u001b[1;36m268\u001b[0m examples\n"
      ]
     },
     "metadata": {},
     "output_type": "display_data"
    },
    {
     "data": {
      "text/html": [
       "<pre style=\"white-space:pre;overflow-x:auto;line-height:normal;font-family:Menlo,'DejaVu Sans Mono',consolas,'Courier New',monospace\">test has <span style=\"color: #008080; text-decoration-color: #008080; font-weight: bold\">115</span> examples\n",
       "</pre>\n"
      ],
      "text/plain": [
       "test has \u001b[1;36m115\u001b[0m examples\n"
      ]
     },
     "metadata": {},
     "output_type": "display_data"
    }
   ],
   "source": [
    "flyswot_data = prep_data(training_dataset, model_checkpoint=model_checkpoint)"
   ]
  },
  {
   "cell_type": "code",
   "execution_count": null,
   "metadata": {},
   "outputs": [],
   "source": [
    "assert flyswot_data, \"make sure you have loaded data sucessfully\""
   ]
  },
  {
   "cell_type": "markdown",
   "metadata": {},
   "source": [
    "## Model training \n",
    "We now have our data ready, next we train a model. By default this will use the paramters we chose earlier but we can switch this around if needed. The `hub_model_id` variable defines what name our model will be saved as on the Hugging Face hub. This defaults to \"flyswot\". "
   ]
  },
  {
   "cell_type": "code",
   "execution_count": null,
   "metadata": {},
   "outputs": [],
   "source": [
    "from flyswot_gym import core"
   ]
  },
  {
   "cell_type": "code",
   "execution_count": null,
   "metadata": {},
   "outputs": [
    {
     "data": {
      "text/html": [
       "<pre style=\"white-space:pre;overflow-x:auto;line-height:normal;font-family:Menlo,'DejaVu Sans Mono',consolas,'Courier New',monospace\"><span style=\"color: #800080; text-decoration-color: #800080; font-weight: bold\">Dataset</span><span style=\"font-weight: bold\">({</span>\n",
       "    features: <span style=\"font-weight: bold\">[</span><span style=\"color: #008000; text-decoration-color: #008000\">'image'</span>, <span style=\"color: #008000; text-decoration-color: #008000\">'label'</span>, <span style=\"color: #008000; text-decoration-color: #008000\">'fpath'</span>, <span style=\"color: #008000; text-decoration-color: #008000\">'clean_path'</span>, <span style=\"color: #008000; text-decoration-color: #008000\">'id'</span><span style=\"font-weight: bold\">]</span>,\n",
       "    num_rows: <span style=\"color: #008080; text-decoration-color: #008080; font-weight: bold\">892</span>\n",
       "<span style=\"font-weight: bold\">})</span>\n",
       "</pre>\n"
      ],
      "text/plain": [
       "\u001b[1;35mDataset\u001b[0m\u001b[1m(\u001b[0m\u001b[1m{\u001b[0m\n",
       "    features: \u001b[1m[\u001b[0m\u001b[32m'image'\u001b[0m, \u001b[32m'label'\u001b[0m, \u001b[32m'fpath'\u001b[0m, \u001b[32m'clean_path'\u001b[0m, \u001b[32m'id'\u001b[0m\u001b[1m]\u001b[0m,\n",
       "    num_rows: \u001b[1;36m892\u001b[0m\n",
       "\u001b[1m}\u001b[0m\u001b[1m)\u001b[0m\n"
      ]
     },
     "metadata": {},
     "output_type": "display_data"
    },
    {
     "name": "stderr",
     "output_type": "stream",
     "text": [
      "Cloning https://huggingface.co/flyswot/flyswot into local empty directory.\n"
     ]
    },
    {
     "data": {
      "application/vnd.jupyter.widget-view+json": {
       "model_id": "f9c13b4768c6409a9e9b0a059892a5f4",
       "version_major": 2,
       "version_minor": 0
      },
      "text/plain": [
       "Download file pytorch_model.bin:   0%|          | 1.58k/106M [00:00<?, ?B/s]"
      ]
     },
     "metadata": {},
     "output_type": "display_data"
    },
    {
     "data": {
      "application/vnd.jupyter.widget-view+json": {
       "model_id": "64dc446d2213458ab87bf739a614b582",
       "version_major": 2,
       "version_minor": 0
      },
      "text/plain": [
       "Download file training_args.bin: 100%|##########| 3.11k/3.11k [00:00<?, ?B/s]"
      ]
     },
     "metadata": {},
     "output_type": "display_data"
    },
    {
     "data": {
      "application/vnd.jupyter.widget-view+json": {
       "model_id": "e03ad48c34c74b6dbf8676700dfc2739",
       "version_major": 2,
       "version_minor": 0
      },
      "text/plain": [
       "Clean file training_args.bin:  32%|###2      | 1.00k/3.11k [00:00<?, ?B/s]"
      ]
     },
     "metadata": {},
     "output_type": "display_data"
    },
    {
     "data": {
      "application/vnd.jupyter.widget-view+json": {
       "model_id": "41ea68a7da1149e4a90aede5dcd2b793",
       "version_major": 2,
       "version_minor": 0
      },
      "text/plain": [
       "Clean file pytorch_model.bin:   0%|          | 1.00k/106M [00:00<?, ?B/s]"
      ]
     },
     "metadata": {},
     "output_type": "display_data"
    },
    {
     "name": "stderr",
     "output_type": "stream",
     "text": [
      "[codecarbon INFO @ 18:30:12] [setup] RAM Tracking...\n",
      "[codecarbon INFO @ 18:30:12] [setup] GPU Tracking...\n",
      "[codecarbon INFO @ 18:30:12] No GPU found.\n",
      "[codecarbon INFO @ 18:30:12] [setup] CPU Tracking...\n",
      "[codecarbon WARNING @ 18:30:12] No CPU tracking mode found. Falling back on CPU constant mode.\n",
      "[codecarbon WARNING @ 18:30:14] We saw that you have a Intel(R) Core(TM) i7-1068NG7 CPU @ 2.30GHz but we don't know it. Please contact us.\n",
      "[codecarbon INFO @ 18:30:14] CPU Model on constant consumption mode: Intel(R) Core(TM) i7-1068NG7 CPU @ 2.30GHz\n",
      "[codecarbon INFO @ 18:30:14] >>> Tracker's metadata:\n",
      "[codecarbon INFO @ 18:30:14]   Platform system: macOS-10.16-x86_64-i386-64bit\n",
      "[codecarbon INFO @ 18:30:14]   Python version: 3.8.13\n",
      "[codecarbon INFO @ 18:30:14]   Available RAM : 16.000 GB\n",
      "[codecarbon INFO @ 18:30:14]   CPU count: 8\n",
      "[codecarbon INFO @ 18:30:14]   CPU model: Intel(R) Core(TM) i7-1068NG7 CPU @ 2.30GHz\n",
      "[codecarbon INFO @ 18:30:14]   GPU count: None\n",
      "[codecarbon INFO @ 18:30:14]   GPU model: None\n",
      "***** Running training *****\n",
      "  Num examples = 892\n",
      "  Num Epochs = 1\n",
      "  Instantaneous batch size per device = 4\n",
      "  Total train batch size (w. parallel, distributed & accumulation) = 4\n",
      "  Gradient Accumulation steps = 1\n",
      "  Total optimization steps = 23\n"
     ]
    },
    {
     "data": {
      "text/html": [
       "\n",
       "    <div>\n",
       "      \n",
       "      <progress value='23' max='23' style='width:300px; height:20px; vertical-align: middle;'></progress>\n",
       "      [23/23 01:57, Epoch 0/1]\n",
       "    </div>\n",
       "    <table border=\"1\" class=\"dataframe\">\n",
       "  <thead>\n",
       " <tr style=\"text-align: left;\">\n",
       "      <th>Epoch</th>\n",
       "      <th>Training Loss</th>\n",
       "      <th>Validation Loss</th>\n",
       "      <th>Precision</th>\n",
       "      <th>Recall</th>\n",
       "      <th>F1</th>\n",
       "      <th>Accuracy</th>\n",
       "    </tr>\n",
       "  </thead>\n",
       "  <tbody>\n",
       "    <tr>\n",
       "      <td>0</td>\n",
       "      <td>No log</td>\n",
       "      <td>0.097217</td>\n",
       "      <td>0.992348</td>\n",
       "      <td>0.982898</td>\n",
       "      <td>0.987315</td>\n",
       "      <td>0.985075</td>\n",
       "    </tr>\n",
       "  </tbody>\n",
       "</table><p>"
      ],
      "text/plain": [
       "<IPython.core.display.HTML object>"
      ]
     },
     "metadata": {},
     "output_type": "display_data"
    },
    {
     "name": "stderr",
     "output_type": "stream",
     "text": [
      "[codecarbon INFO @ 18:30:32] Energy consumed for RAM : 0.000025 kWh. RAM Power : 6.0 W\n",
      "[codecarbon INFO @ 18:30:32] Energy consumed for all CPUs : 0.000177 kWh. All CPUs Power : 42.5 W\n",
      "[codecarbon INFO @ 18:30:32] 0.000202 kWh of electricity used since the begining.\n",
      "[codecarbon INFO @ 18:30:47] Energy consumed for RAM : 0.000050 kWh. RAM Power : 6.0 W\n",
      "[codecarbon INFO @ 18:30:47] Energy consumed for all CPUs : 0.000354 kWh. All CPUs Power : 42.5 W\n",
      "[codecarbon INFO @ 18:30:47] 0.000404 kWh of electricity used since the begining.\n",
      "[codecarbon INFO @ 18:31:02] Energy consumed for RAM : 0.000075 kWh. RAM Power : 6.0 W\n",
      "[codecarbon INFO @ 18:31:02] Energy consumed for all CPUs : 0.000531 kWh. All CPUs Power : 42.5 W\n",
      "[codecarbon INFO @ 18:31:02] 0.000606 kWh of electricity used since the begining.\n",
      "[codecarbon INFO @ 18:31:17] Energy consumed for RAM : 0.000100 kWh. RAM Power : 6.0 W\n",
      "[codecarbon INFO @ 18:31:17] Energy consumed for all CPUs : 0.000708 kWh. All CPUs Power : 42.5 W\n",
      "[codecarbon INFO @ 18:31:17] 0.000808 kWh of electricity used since the begining.\n",
      "***** Running Evaluation *****\n",
      "  Num examples = 268\n",
      "  Batch size = 4\n",
      "[codecarbon INFO @ 18:31:32] Energy consumed for RAM : 0.000125 kWh. RAM Power : 6.0 W\n",
      "[codecarbon INFO @ 18:31:32] Energy consumed for all CPUs : 0.000886 kWh. All CPUs Power : 42.5 W\n",
      "[codecarbon INFO @ 18:31:32] 0.001011 kWh of electricity used since the begining.\n",
      "[codecarbon INFO @ 18:31:47] Energy consumed for RAM : 0.000150 kWh. RAM Power : 6.0 W\n",
      "[codecarbon INFO @ 18:31:47] Energy consumed for all CPUs : 0.001063 kWh. All CPUs Power : 42.5 W\n",
      "[codecarbon INFO @ 18:31:47] 0.001213 kWh of electricity used since the begining.\n",
      "[codecarbon INFO @ 18:32:02] Energy consumed for RAM : 0.000175 kWh. RAM Power : 6.0 W\n",
      "[codecarbon INFO @ 18:32:02] Energy consumed for all CPUs : 0.001240 kWh. All CPUs Power : 42.5 W\n",
      "[codecarbon INFO @ 18:32:02] 0.001415 kWh of electricity used since the begining.\n",
      "Saving model checkpoint to output_dir/checkpoint-23\n",
      "Configuration saved in output_dir/checkpoint-23/config.json\n",
      "Model weights saved in output_dir/checkpoint-23/pytorch_model.bin\n",
      "Feature extractor saved in output_dir/checkpoint-23/preprocessor_config.json\n",
      "Feature extractor saved in output_dir/preprocessor_config.json\n",
      "[codecarbon INFO @ 18:32:17] Energy consumed for RAM : 0.000200 kWh. RAM Power : 6.0 W\n",
      "[codecarbon INFO @ 18:32:17] Energy consumed for all CPUs : 0.001417 kWh. All CPUs Power : 42.5 W\n",
      "[codecarbon INFO @ 18:32:17] 0.001617 kWh of electricity used since the begining.\n",
      "\n",
      "\n",
      "Training completed. Do not forget to share your model on huggingface.co/models =)\n",
      "\n",
      "\n",
      "[codecarbon INFO @ 18:32:18] Energy consumed for RAM : 0.000202 kWh. RAM Power : 6.0 W\n",
      "[codecarbon INFO @ 18:32:18] Energy consumed for all CPUs : 0.001430 kWh. All CPUs Power : 42.5 W\n",
      "[codecarbon INFO @ 18:32:18] 0.001632 kWh of electricity used since the begining.\n"
     ]
    }
   ],
   "source": [
    "trainer = core.train_model(flyswot_data,\n",
    "                           model_checkpoint, \n",
    "                           num_epochs=num_epochs)"
   ]
  },
  {
   "cell_type": "markdown",
   "metadata": {},
   "source": [
    "# Inspecting model results\n",
    "\n",
    "This section is a WIP!\n",
    "\n",
    "We have a model. No we want to know if it's any good. There are various ways in which we can explore this. First we can use the `trainer.predict` method to run our model against some test data."
   ]
  },
  {
   "cell_type": "code",
   "execution_count": null,
   "metadata": {},
   "outputs": [
    {
     "name": "stderr",
     "output_type": "stream",
     "text": [
      "***** Running Prediction *****\n",
      "  Num examples = 115\n",
      "  Batch size = 4\n"
     ]
    },
    {
     "data": {
      "text/html": [
       "\n",
       "    <div>\n",
       "      \n",
       "      <progress value='29' max='29' style='width:300px; height:20px; vertical-align: middle;'></progress>\n",
       "      [29/29 00:16]\n",
       "    </div>\n",
       "    "
      ],
      "text/plain": [
       "<IPython.core.display.HTML object>"
      ]
     },
     "metadata": {},
     "output_type": "display_data"
    }
   ],
   "source": [
    "outputs = trainer.predict(flyswot_data.test_ds)"
   ]
  },
  {
   "cell_type": "markdown",
   "metadata": {},
   "source": [
    "This output variable includes metrics for how our model performs on our test data."
   ]
  },
  {
   "cell_type": "code",
   "execution_count": null,
   "metadata": {},
   "outputs": [
    {
     "data": {
      "text/plain": [
       "{'test_loss': 0.0962442010641098,\n",
       " 'test_precision': 0.9805871212121212,\n",
       " 'test_recall': 0.9537037037037037,\n",
       " 'test_f1': 0.962385099177552,\n",
       " 'test_accuracy': 0.9826086956521739,\n",
       " 'test_runtime': 20.251,\n",
       " 'test_samples_per_second': 5.679,\n",
       " 'test_steps_per_second': 1.432}"
      ]
     },
     "execution_count": null,
     "metadata": {},
     "output_type": "execute_result"
    }
   ],
   "source": [
    "outputs.metrics"
   ]
  },
  {
   "cell_type": "code",
   "execution_count": null,
   "metadata": {},
   "outputs": [],
   "source": [
    "import pandas as pd"
   ]
  },
  {
   "cell_type": "code",
   "execution_count": null,
   "metadata": {},
   "outputs": [
    {
     "data": {
      "text/html": [
       "<div>\n",
       "<style scoped>\n",
       "    .dataframe tbody tr th:only-of-type {\n",
       "        vertical-align: middle;\n",
       "    }\n",
       "\n",
       "    .dataframe tbody tr th {\n",
       "        vertical-align: top;\n",
       "    }\n",
       "\n",
       "    .dataframe thead th {\n",
       "        text-align: right;\n",
       "    }\n",
       "</style>\n",
       "<table border=\"1\" class=\"dataframe\">\n",
       "  <thead>\n",
       "    <tr style=\"text-align: right;\">\n",
       "      <th></th>\n",
       "      <th>score</th>\n",
       "    </tr>\n",
       "  </thead>\n",
       "  <tbody>\n",
       "    <tr>\n",
       "      <th>test_loss</th>\n",
       "      <td>0.096244</td>\n",
       "    </tr>\n",
       "    <tr>\n",
       "      <th>test_precision</th>\n",
       "      <td>0.980587</td>\n",
       "    </tr>\n",
       "    <tr>\n",
       "      <th>test_recall</th>\n",
       "      <td>0.953704</td>\n",
       "    </tr>\n",
       "    <tr>\n",
       "      <th>test_f1</th>\n",
       "      <td>0.962385</td>\n",
       "    </tr>\n",
       "    <tr>\n",
       "      <th>test_accuracy</th>\n",
       "      <td>0.982609</td>\n",
       "    </tr>\n",
       "    <tr>\n",
       "      <th>test_runtime</th>\n",
       "      <td>20.251000</td>\n",
       "    </tr>\n",
       "    <tr>\n",
       "      <th>test_samples_per_second</th>\n",
       "      <td>5.679000</td>\n",
       "    </tr>\n",
       "    <tr>\n",
       "      <th>test_steps_per_second</th>\n",
       "      <td>1.432000</td>\n",
       "    </tr>\n",
       "  </tbody>\n",
       "</table>\n",
       "</div>"
      ],
      "text/plain": [
       "                             score\n",
       "test_loss                 0.096244\n",
       "test_precision            0.980587\n",
       "test_recall               0.953704\n",
       "test_f1                   0.962385\n",
       "test_accuracy             0.982609\n",
       "test_runtime             20.251000\n",
       "test_samples_per_second   5.679000\n",
       "test_steps_per_second     1.432000"
      ]
     },
     "execution_count": null,
     "metadata": {},
     "output_type": "execute_result"
    }
   ],
   "source": [
    "pd.DataFrame.from_dict(outputs.metrics,orient='index',columns=['score'])"
   ]
  },
  {
   "cell_type": "code",
   "execution_count": null,
   "metadata": {},
   "outputs": [],
   "source": []
  },
  {
   "cell_type": "code",
   "execution_count": null,
   "metadata": {},
   "outputs": [
    {
     "name": "stdout",
     "output_type": "stream",
     "text": [
      "              precision    recall  f1-score   support\n",
      "\n",
      "   CONTAINER       0.88      1.00      0.93         7\n",
      "CONTROL SHOT       1.00      1.00      1.00         5\n",
      "       COVER       1.00      1.00      1.00        19\n",
      "EDGE + SPINE       1.00      1.00      1.00        17\n",
      "    FLYSHEET       0.97      1.00      0.98        32\n",
      "       OTHER       1.00      1.00      1.00         5\n",
      "PAGE + FOLIO       1.00      0.96      0.98        27\n",
      "      SCROLL       1.00      0.67      0.80         3\n",
      "\n",
      "    accuracy                           0.98       115\n",
      "   macro avg       0.98      0.95      0.96       115\n",
      "weighted avg       0.98      0.98      0.98       115\n",
      "\n"
     ]
    }
   ],
   "source": [
    "from sklearn.metrics import classification_report\n",
    "y_true = outputs.label_ids\n",
    "y_pred = outputs.predictions.argmax(1)\n",
    "print(classification_report(y_true, y_pred, target_names=flyswot_data.train_ds.features['label'].names))"
   ]
  },
  {
   "cell_type": "code",
   "execution_count": null,
   "metadata": {},
   "outputs": [],
   "source": [
    "from flyswot_gym.core import plot_confusion_matrix"
   ]
  },
  {
   "cell_type": "code",
   "execution_count": null,
   "metadata": {},
   "outputs": [
    {
     "data": {
      "image/png": "[encoded data removed]",
      "text/plain": [
       "<Figure size 1080x1080 with 2 Axes>"
      ]
     },
     "metadata": {
      "needs_background": "light"
     },
     "output_type": "display_data"
    }
   ],
   "source": [
    "plot_confusion_matrix(outputs,trainer=trainer)"
   ]
  },
  {
   "cell_type": "code",
   "execution_count": null,
   "metadata": {},
   "outputs": [],
   "source": []
  },
  {
   "cell_type": "code",
   "execution_count": null,
   "metadata": {},
   "outputs": [],
   "source": []
  },
  {
   "cell_type": "code",
   "execution_count": null,
   "metadata": {},
   "outputs": [],
   "source": [
    "from flyswot_gym.core import create_test_results_df"
   ]
  },
  {
   "cell_type": "code",
   "execution_count": null,
   "metadata": {},
   "outputs": [
    {
     "data": {
      "text/html": [
       "<pre style=\"white-space:pre;overflow-x:auto;line-height:normal;font-family:Menlo,'DejaVu Sans Mono',consolas,'Courier New',monospace\">misclasified:\n",
       "</pre>\n"
      ],
      "text/plain": [
       "misclasified:\n"
      ]
     },
     "metadata": {},
     "output_type": "display_data"
    },
    {
     "data": {
      "text/html": [
       "<pre style=\"white-space:pre;overflow-x:auto;line-height:normal;font-family:Menlo,'DejaVu Sans Mono',consolas,'Courier New',monospace\">          y_true     y_pred    y_prob\n",
       "<span style=\"color: #008080; text-decoration-color: #008080; font-weight: bold\">10</span>  PAGE + FOLIO   FLYSHEET  <span style=\"color: #008080; text-decoration-color: #008080; font-weight: bold\">0.891519</span>\n",
       "<span style=\"color: #008080; text-decoration-color: #008080; font-weight: bold\">61</span>        SCROLL  CONTAINER  <span style=\"color: #008080; text-decoration-color: #008080; font-weight: bold\">0.625756</span>\n",
       "</pre>\n"
      ],
      "text/plain": [
       "          y_true     y_pred    y_prob\n",
       "\u001b[1;36m10\u001b[0m  PAGE + FOLIO   FLYSHEET  \u001b[1;36m0.891519\u001b[0m\n",
       "\u001b[1;36m61\u001b[0m        SCROLL  CONTAINER  \u001b[1;36m0.625756\u001b[0m\n"
      ]
     },
     "metadata": {},
     "output_type": "display_data"
    },
    {
     "data": {
      "text/html": [
       "<pre style=\"white-space:pre;overflow-x:auto;line-height:normal;font-family:Menlo,'DejaVu Sans Mono',consolas,'Courier New',monospace\">\n",
       "\n",
       "</pre>\n"
      ],
      "text/plain": [
       "\n",
       "\n"
      ]
     },
     "metadata": {},
     "output_type": "display_data"
    },
    {
     "data": {
      "text/html": [
       "<pre style=\"white-space:pre;overflow-x:auto;line-height:normal;font-family:Menlo,'DejaVu Sans Mono',consolas,'Courier New',monospace\">Number of wrong predictions of FLYSHEET label: <span style=\"color: #008080; text-decoration-color: #008080; font-weight: bold\">1</span>\n",
       "</pre>\n"
      ],
      "text/plain": [
       "Number of wrong predictions of FLYSHEET label: \u001b[1;36m1\u001b[0m\n"
      ]
     },
     "metadata": {},
     "output_type": "display_data"
    },
    {
     "data": {
      "text/html": [
       "<pre style=\"white-space:pre;overflow-x:auto;line-height:normal;font-family:Menlo,'DejaVu Sans Mono',consolas,'Courier New',monospace\">Percentage of wrong predictions of FLYSHEET label: <span style=\"color: #008080; text-decoration-color: #008080; font-weight: bold\">0.8695652173913043</span>\n",
       "</pre>\n"
      ],
      "text/plain": [
       "Percentage of wrong predictions of FLYSHEET label: \u001b[1;36m0.8695652173913043\u001b[0m\n"
      ]
     },
     "metadata": {},
     "output_type": "display_data"
    }
   ],
   "source": [
    "report_df = create_test_results_df(outputs,trainer, important_label='FLYSHEET', print_results=True,return_df=True)"
   ]
  },
  {
   "cell_type": "code",
   "execution_count": null,
   "metadata": {},
   "outputs": [],
   "source": [
    "mistakes_df = report_df[report_df.y_true != report_df.y_pred]"
   ]
  },
  {
   "cell_type": "code",
   "execution_count": null,
   "metadata": {},
   "outputs": [
    {
     "data": {
      "text/plain": [
       "0.89151853"
      ]
     },
     "execution_count": null,
     "metadata": {},
     "output_type": "execute_result"
    }
   ],
   "source": [
    "mistakes_df['y_prob'].max()"
   ]
  },
  {
   "cell_type": "code",
   "execution_count": null,
   "metadata": {},
   "outputs": [],
   "source": [
    "from flyswot_gym.core import create_mistakes_image_navigator"
   ]
  },
  {
   "cell_type": "code",
   "execution_count": null,
   "metadata": {},
   "outputs": [],
   "source": []
  },
  {
   "cell_type": "code",
   "execution_count": null,
   "metadata": {},
   "outputs": [
    {
     "data": {
      "application/javascript": [
       "(function(root) {\n",
       "  function now() {\n",
       "    return new Date();\n",
       "  }\n",
       "\n",
       "  var force = true;\n",
       "\n",
       "  if (typeof root._bokeh_onload_callbacks === \"undefined\" || force === true) {\n",
       "    root._bokeh_onload_callbacks = [];\n",
       "    root._bokeh_is_loading = undefined;\n",
       "  }\n",
       "\n",
       "  if (typeof (root._bokeh_timeout) === \"undefined\" || force === true) {\n",
       "    root._bokeh_timeout = Date.now() + 5000;\n",
       "    root._bokeh_failed_load = false;\n",
       "  }\n",
       "\n",
       "  function run_callbacks() {\n",
       "    try {\n",
       "      root._bokeh_onload_callbacks.forEach(function(callback) {\n",
       "        if (callback != null)\n",
       "          callback();\n",
       "      });\n",
       "    } finally {\n",
       "      delete root._bokeh_onload_callbacks\n",
       "    }\n",
       "    console.debug(\"Bokeh: all callbacks have finished\");\n",
       "  }\n",
       "\n",
       "  function load_libs(css_urls, js_urls, js_modules, callback) {\n",
       "    if (css_urls == null) css_urls = [];\n",
       "    if (js_urls == null) js_urls = [];\n",
       "    if (js_modules == null) js_modules = [];\n",
       "\n",
       "    root._bokeh_onload_callbacks.push(callback);\n",
       "    if (root._bokeh_is_loading > 0) {\n",
       "      console.debug(\"Bokeh: BokehJS is being loaded, scheduling callback at\", now());\n",
       "      return null;\n",
       "    }\n",
       "    if (js_urls.length === 0 && js_modules.length === 0) {\n",
       "      run_callbacks();\n",
       "      return null;\n",
       "    }\n",
       "    console.debug(\"Bokeh: BokehJS not loaded, scheduling load and callback at\", now());\n",
       "\n",
       "    function on_load() {\n",
       "      root._bokeh_is_loading--;\n",
       "      if (root._bokeh_is_loading === 0) {\n",
       "        console.debug(\"Bokeh: all BokehJS libraries/stylesheets loaded\");\n",
       "        run_callbacks()\n",
       "      }\n",
       "    }\n",
       "\n",
       "    function on_error() {\n",
       "      console.error(\"failed to load \" + url);\n",
       "    }\n",
       "\n",
       "    for (var i = 0; i < css_urls.length; i++) {\n",
       "      var url = css_urls[i];\n",
       "      const element = document.createElement(\"link\");\n",
       "      element.onload = on_load;\n",
       "      element.onerror = on_error;\n",
       "      element.rel = \"stylesheet\";\n",
       "      element.type = \"text/css\";\n",
       "      element.href = url;\n",
       "      console.debug(\"Bokeh: injecting link tag for BokehJS stylesheet: \", url);\n",
       "      document.body.appendChild(element);\n",
       "    }\n",
       "\n",
       "    var skip = [];\n",
       "    if (window.requirejs) {\n",
       "      window.requirejs.config({'packages': {}, 'paths': {'gridstack': 'https://cdn.jsdelivr.net/npm/gridstack@4.2.5/dist/gridstack-h5', 'notyf': 'https://cdn.jsdelivr.net/npm/notyf@3/notyf.min'}, 'shim': {'gridstack': {'exports': 'GridStack'}}});\n",
       "      require([\"gridstack\"], function(GridStack) {\n",
       "\twindow.GridStack = GridStack\n",
       "\ton_load()\n",
       "      })\n",
       "      require([\"notyf\"], function() {\n",
       "\ton_load()\n",
       "      })\n",
       "      root._bokeh_is_loading = css_urls.length + 2;\n",
       "    } else {\n",
       "      root._bokeh_is_loading = css_urls.length + js_urls.length + js_modules.length;\n",
       "    }    if (((window['GridStack'] !== undefined) && (!(window['GridStack'] instanceof HTMLElement))) || window.requirejs) {\n",
       "      var urls = ['https://cdn.jsdelivr.net/npm/gridstack@4.2.5/dist/gridstack-h5.js'];\n",
       "      for (var i = 0; i < urls.length; i++) {\n",
       "        skip.push(urls[i])\n",
       "      }\n",
       "    }    if (((window['Notyf'] !== undefined) && (!(window['Notyf'] instanceof HTMLElement))) || window.requirejs) {\n",
       "      var urls = ['https://cdn.jsdelivr.net/npm/notyf@3/notyf.min.js'];\n",
       "      for (var i = 0; i < urls.length; i++) {\n",
       "        skip.push(urls[i])\n",
       "      }\n",
       "    }    for (var i = 0; i < js_urls.length; i++) {\n",
       "      var url = js_urls[i];\n",
       "      if (skip.indexOf(url) >= 0) {\n",
       "\tif (!window.requirejs) {\n",
       "\t  on_load();\n",
       "\t}\n",
       "\tcontinue;\n",
       "      }\n",
       "      var element = document.createElement('script');\n",
       "      element.onload = on_load;\n",
       "      element.onerror = on_error;\n",
       "      element.async = false;\n",
       "      element.src = url;\n",
       "      console.debug(\"Bokeh: injecting script tag for BokehJS library: \", url);\n",
       "      document.head.appendChild(element);\n",
       "    }\n",
       "    for (var i = 0; i < js_modules.length; i++) {\n",
       "      var url = js_modules[i];\n",
       "      if (skip.indexOf(url) >= 0) {\n",
       "\tif (!window.requirejs) {\n",
       "\t  on_load();\n",
       "\t}\n",
       "\tcontinue;\n",
       "      }\n",
       "      var element = document.createElement('script');\n",
       "      element.onload = on_load;\n",
       "      element.onerror = on_error;\n",
       "      element.async = false;\n",
       "      element.src = url;\n",
       "      element.type = \"module\";\n",
       "      console.debug(\"Bokeh: injecting script tag for BokehJS library: \", url);\n",
       "      document.head.appendChild(element);\n",
       "    }\n",
       "    if (!js_urls.length && !js_modules.length) {\n",
       "      on_load()\n",
       "    }\n",
       "  };\n",
       "\n",
       "  function inject_raw_css(css) {\n",
       "    const element = document.createElement(\"style\");\n",
       "    element.appendChild(document.createTextNode(css));\n",
       "    document.body.appendChild(element);\n",
       "  }\n",
       "\n",
       "  var js_urls = [\"https://cdn.bokeh.org/bokeh/release/bokeh-2.4.3.min.js\", \"https://cdn.bokeh.org/bokeh/release/bokeh-gl-2.4.3.min.js\", \"https://cdn.bokeh.org/bokeh/release/bokeh-widgets-2.4.3.min.js\", \"https://cdn.bokeh.org/bokeh/release/bokeh-tables-2.4.3.min.js\", \"https://cdn.bokeh.org/bokeh/release/bokeh-mathjax-2.4.3.min.js\", \"https://cdn.jsdelivr.net/npm/notyf@3/notyf.min.js\", \"https://unpkg.com/@holoviz/panel@0.13.1/dist/panel.min.js\"];\n",
       "  var js_modules = [];\n",
       "  var css_urls = [\"https://cdn.jsdelivr.net/npm/notyf@3/notyf.min.css\", \"https://cdnjs.cloudflare.com/ajax/libs/font-awesome/5.15.1/css/all.min.css\", \"https://unpkg.com/@holoviz/panel@0.13.1/dist/css/debugger.css\", \"https://unpkg.com/@holoviz/panel@0.13.1/dist/css/alerts.css\", \"https://unpkg.com/@holoviz/panel@0.13.1/dist/css/card.css\", \"https://unpkg.com/@holoviz/panel@0.13.1/dist/css/widgets.css\", \"https://unpkg.com/@holoviz/panel@0.13.1/dist/css/markdown.css\", \"https://unpkg.com/@holoviz/panel@0.13.1/dist/css/json.css\", \"https://unpkg.com/@holoviz/panel@0.13.1/dist/css/loading.css\", \"https://unpkg.com/@holoviz/panel@0.13.1/dist/css/dataframe.css\"];\n",
       "  var inline_js = [    function(Bokeh) {\n",
       "      inject_raw_css(\"\\n    .bk.pn-loading.arcs:before {\\n      background-image: url(\\\"data:image/svg+xml;base64,PHN2ZyB4bWxucz0iaHR0cDovL3d3dy53My5vcmcvMjAwMC9zdmciIHhtbG5zOnhsaW5rPSJodHRwOi8vd3d3LnczLm9yZy8xOTk5L3hsaW5rIiBzdHlsZT0ibWFyZ2luOiBhdXRvOyBiYWNrZ3JvdW5kOiBub25lOyBkaXNwbGF5OiBibG9jazsgc2hhcGUtcmVuZGVyaW5nOiBhdXRvOyIgdmlld0JveD0iMCAwIDEwMCAxMDAiIHByZXNlcnZlQXNwZWN0UmF0aW89InhNaWRZTWlkIj4gIDxjaXJjbGUgY3g9IjUwIiBjeT0iNTAiIHI9IjMyIiBzdHJva2Utd2lkdGg9IjgiIHN0cm9rZT0iI2MzYzNjMyIgc3Ryb2tlLWRhc2hhcnJheT0iNTAuMjY1NDgyNDU3NDM2NjkgNTAuMjY1NDgyNDU3NDM2NjkiIGZpbGw9Im5vbmUiIHN0cm9rZS1saW5lY2FwPSJyb3VuZCI+ICAgIDxhbmltYXRlVHJhbnNmb3JtIGF0dHJpYnV0ZU5hbWU9InRyYW5zZm9ybSIgdHlwZT0icm90YXRlIiByZXBlYXRDb3VudD0iaW5kZWZpbml0ZSIgZHVyPSIxcyIga2V5VGltZXM9IjA7MSIgdmFsdWVzPSIwIDUwIDUwOzM2MCA1MCA1MCI+PC9hbmltYXRlVHJhbnNmb3JtPiAgPC9jaXJjbGU+PC9zdmc+\\\");\\n      background-size: auto calc(min(50%, 400px));\\n    }\\n    \");\n",
       "    },    function(Bokeh) {\n",
       "      Bokeh.set_log_level(\"info\");\n",
       "    },\n",
       "function(Bokeh) {} // ensure no trailing comma for IE\n",
       "  ];\n",
       "\n",
       "  function run_inline_js() {\n",
       "    if ((root.Bokeh !== undefined) || (force === true)) {\n",
       "      for (var i = 0; i < inline_js.length; i++) {\n",
       "        inline_js[i].call(root, root.Bokeh);\n",
       "      }} else if (Date.now() < root._bokeh_timeout) {\n",
       "      setTimeout(run_inline_js, 100);\n",
       "    } else if (!root._bokeh_failed_load) {\n",
       "      console.log(\"Bokeh: BokehJS failed to load within specified timeout.\");\n",
       "      root._bokeh_failed_load = true;\n",
       "    }\n",
       "  }\n",
       "\n",
       "  if (root._bokeh_is_loading === 0) {\n",
       "    console.debug(\"Bokeh: BokehJS loaded, going straight to plotting\");\n",
       "    run_inline_js();\n",
       "  } else {\n",
       "    load_libs(css_urls, js_urls, js_modules, function() {\n",
       "      console.debug(\"Bokeh: BokehJS plotting callback run at\", now());\n",
       "      run_inline_js();\n",
       "    });\n",
       "  }\n",
       "}(window));"
      ],
      "application/vnd.holoviews_load.v0+json": "(function(root) {\n  function now() {\n    return new Date();\n  }\n\n  var force = true;\n\n  if (typeof root._bokeh_onload_callbacks === \"undefined\" || force === true) {\n    root._bokeh_onload_callbacks = [];\n    root._bokeh_is_loading = undefined;\n  }\n\n  if (typeof (root._bokeh_timeout) === \"undefined\" || force === true) {\n    root._bokeh_timeout = Date.now() + 5000;\n    root._bokeh_failed_load = false;\n  }\n\n  function run_callbacks() {\n    try {\n      root._bokeh_onload_callbacks.forEach(function(callback) {\n        if (callback != null)\n          callback();\n      });\n    } finally {\n      delete root._bokeh_onload_callbacks\n    }\n    console.debug(\"Bokeh: all callbacks have finished\");\n  }\n\n  function load_libs(css_urls, js_urls, js_modules, callback) {\n    if (css_urls == null) css_urls = [];\n    if (js_urls == null) js_urls = [];\n    if (js_modules == null) js_modules = [];\n\n    root._bokeh_onload_callbacks.push(callback);\n    if (root._bokeh_is_loading > 0) {\n      console.debug(\"Bokeh: BokehJS is being loaded, scheduling callback at\", now());\n      return null;\n    }\n    if (js_urls.length === 0 && js_modules.length === 0) {\n      run_callbacks();\n      return null;\n    }\n    console.debug(\"Bokeh: BokehJS not loaded, scheduling load and callback at\", now());\n\n    function on_load() {\n      root._bokeh_is_loading--;\n      if (root._bokeh_is_loading === 0) {\n        console.debug(\"Bokeh: all BokehJS libraries/stylesheets loaded\");\n        run_callbacks()\n      }\n    }\n\n    function on_error() {\n      console.error(\"failed to load \" + url);\n    }\n\n    for (var i = 0; i < css_urls.length; i++) {\n      var url = css_urls[i];\n      const element = document.createElement(\"link\");\n      element.onload = on_load;\n      element.onerror = on_error;\n      element.rel = \"stylesheet\";\n      element.type = \"text/css\";\n      element.href = url;\n      console.debug(\"Bokeh: injecting link tag for BokehJS stylesheet: \", url);\n      document.body.appendChild(element);\n    }\n\n    var skip = [];\n    if (window.requirejs) {\n      window.requirejs.config({'packages': {}, 'paths': {'gridstack': 'https://cdn.jsdelivr.net/npm/gridstack@4.2.5/dist/gridstack-h5', 'notyf': 'https://cdn.jsdelivr.net/npm/notyf@3/notyf.min'}, 'shim': {'gridstack': {'exports': 'GridStack'}}});\n      require([\"gridstack\"], function(GridStack) {\n\twindow.GridStack = GridStack\n\ton_load()\n      })\n      require([\"notyf\"], function() {\n\ton_load()\n      })\n      root._bokeh_is_loading = css_urls.length + 2;\n    } else {\n      root._bokeh_is_loading = css_urls.length + js_urls.length + js_modules.length;\n    }    if (((window['GridStack'] !== undefined) && (!(window['GridStack'] instanceof HTMLElement))) || window.requirejs) {\n      var urls = ['https://cdn.jsdelivr.net/npm/gridstack@4.2.5/dist/gridstack-h5.js'];\n      for (var i = 0; i < urls.length; i++) {\n        skip.push(urls[i])\n      }\n    }    if (((window['Notyf'] !== undefined) && (!(window['Notyf'] instanceof HTMLElement))) || window.requirejs) {\n      var urls = ['https://cdn.jsdelivr.net/npm/notyf@3/notyf.min.js'];\n      for (var i = 0; i < urls.length; i++) {\n        skip.push(urls[i])\n      }\n    }    for (var i = 0; i < js_urls.length; i++) {\n      var url = js_urls[i];\n      if (skip.indexOf(url) >= 0) {\n\tif (!window.requirejs) {\n\t  on_load();\n\t}\n\tcontinue;\n      }\n      var element = document.createElement('script');\n      element.onload = on_load;\n      element.onerror = on_error;\n      element.async = false;\n      element.src = url;\n      console.debug(\"Bokeh: injecting script tag for BokehJS library: \", url);\n      document.head.appendChild(element);\n    }\n    for (var i = 0; i < js_modules.length; i++) {\n      var url = js_modules[i];\n      if (skip.indexOf(url) >= 0) {\n\tif (!window.requirejs) {\n\t  on_load();\n\t}\n\tcontinue;\n      }\n      var element = document.createElement('script');\n      element.onload = on_load;\n      element.onerror = on_error;\n      element.async = false;\n      element.src = url;\n      element.type = \"module\";\n      console.debug(\"Bokeh: injecting script tag for BokehJS library: \", url);\n      document.head.appendChild(element);\n    }\n    if (!js_urls.length && !js_modules.length) {\n      on_load()\n    }\n  };\n\n  function inject_raw_css(css) {\n    const element = document.createElement(\"style\");\n    element.appendChild(document.createTextNode(css));\n    document.body.appendChild(element);\n  }\n\n  var js_urls = [\"https://cdn.bokeh.org/bokeh/release/bokeh-2.4.3.min.js\", \"https://cdn.bokeh.org/bokeh/release/bokeh-gl-2.4.3.min.js\", \"https://cdn.bokeh.org/bokeh/release/bokeh-widgets-2.4.3.min.js\", \"https://cdn.bokeh.org/bokeh/release/bokeh-tables-2.4.3.min.js\", \"https://cdn.bokeh.org/bokeh/release/bokeh-mathjax-2.4.3.min.js\", \"https://cdn.jsdelivr.net/npm/notyf@3/notyf.min.js\", \"https://unpkg.com/@holoviz/panel@0.13.1/dist/panel.min.js\"];\n  var js_modules = [];\n  var css_urls = [\"https://cdn.jsdelivr.net/npm/notyf@3/notyf.min.css\", \"https://cdnjs.cloudflare.com/ajax/libs/font-awesome/5.15.1/css/all.min.css\", \"https://unpkg.com/@holoviz/panel@0.13.1/dist/css/debugger.css\", \"https://unpkg.com/@holoviz/panel@0.13.1/dist/css/alerts.css\", \"https://unpkg.com/@holoviz/panel@0.13.1/dist/css/card.css\", \"https://unpkg.com/@holoviz/panel@0.13.1/dist/css/widgets.css\", \"https://unpkg.com/@holoviz/panel@0.13.1/dist/css/markdown.css\", \"https://unpkg.com/@holoviz/panel@0.13.1/dist/css/json.css\", \"https://unpkg.com/@holoviz/panel@0.13.1/dist/css/loading.css\", \"https://unpkg.com/@holoviz/panel@0.13.1/dist/css/dataframe.css\"];\n  var inline_js = [    function(Bokeh) {\n      inject_raw_css(\"\\n    .bk.pn-loading.arcs:before {\\n      background-image: url(\\\"data:image/svg+xml;base64,PHN2ZyB4bWxucz0iaHR0cDovL3d3dy53My5vcmcvMjAwMC9zdmciIHhtbG5zOnhsaW5rPSJodHRwOi8vd3d3LnczLm9yZy8xOTk5L3hsaW5rIiBzdHlsZT0ibWFyZ2luOiBhdXRvOyBiYWNrZ3JvdW5kOiBub25lOyBkaXNwbGF5OiBibG9jazsgc2hhcGUtcmVuZGVyaW5nOiBhdXRvOyIgdmlld0JveD0iMCAwIDEwMCAxMDAiIHByZXNlcnZlQXNwZWN0UmF0aW89InhNaWRZTWlkIj4gIDxjaXJjbGUgY3g9IjUwIiBjeT0iNTAiIHI9IjMyIiBzdHJva2Utd2lkdGg9IjgiIHN0cm9rZT0iI2MzYzNjMyIgc3Ryb2tlLWRhc2hhcnJheT0iNTAuMjY1NDgyNDU3NDM2NjkgNTAuMjY1NDgyNDU3NDM2NjkiIGZpbGw9Im5vbmUiIHN0cm9rZS1saW5lY2FwPSJyb3VuZCI+ICAgIDxhbmltYXRlVHJhbnNmb3JtIGF0dHJpYnV0ZU5hbWU9InRyYW5zZm9ybSIgdHlwZT0icm90YXRlIiByZXBlYXRDb3VudD0iaW5kZWZpbml0ZSIgZHVyPSIxcyIga2V5VGltZXM9IjA7MSIgdmFsdWVzPSIwIDUwIDUwOzM2MCA1MCA1MCI+PC9hbmltYXRlVHJhbnNmb3JtPiAgPC9jaXJjbGU+PC9zdmc+\\\");\\n      background-size: auto calc(min(50%, 400px));\\n    }\\n    \");\n    },    function(Bokeh) {\n      Bokeh.set_log_level(\"info\");\n    },\nfunction(Bokeh) {} // ensure no trailing comma for IE\n  ];\n\n  function run_inline_js() {\n    if ((root.Bokeh !== undefined) || (force === true)) {\n      for (var i = 0; i < inline_js.length; i++) {\n        inline_js[i].call(root, root.Bokeh);\n      }} else if (Date.now() < root._bokeh_timeout) {\n      setTimeout(run_inline_js, 100);\n    } else if (!root._bokeh_failed_load) {\n      console.log(\"Bokeh: BokehJS failed to load within specified timeout.\");\n      root._bokeh_failed_load = true;\n    }\n  }\n\n  if (root._bokeh_is_loading === 0) {\n    console.debug(\"Bokeh: BokehJS loaded, going straight to plotting\");\n    run_inline_js();\n  } else {\n    load_libs(css_urls, js_urls, js_modules, function() {\n      console.debug(\"Bokeh: BokehJS plotting callback run at\", now());\n      run_inline_js();\n    });\n  }\n}(window));"
     },
     "metadata": {},
     "output_type": "display_data"
    },
    {
     "data": {
      "application/javascript": [
       "\n",
       "if ((window.PyViz === undefined) || (window.PyViz instanceof HTMLElement)) {\n",
       "  window.PyViz = {comms: {}, comm_status:{}, kernels:{}, receivers: {}, plot_index: []}\n",
       "}\n",
       "\n",
       "\n",
       "    function JupyterCommManager() {\n",
       "    }\n",
       "\n",
       "    JupyterCommManager.prototype.register_target = function(plot_id, comm_id, msg_handler) {\n",
       "      if (window.comm_manager || ((window.Jupyter !== undefined) && (Jupyter.notebook.kernel != null))) {\n",
       "        var comm_manager = window.comm_manager || Jupyter.notebook.kernel.comm_manager;\n",
       "        comm_manager.register_target(comm_id, function(comm) {\n",
       "          comm.on_msg(msg_handler);\n",
       "        });\n",
       "      } else if ((plot_id in window.PyViz.kernels) && (window.PyViz.kernels[plot_id])) {\n",
       "        window.PyViz.kernels[plot_id].registerCommTarget(comm_id, function(comm) {\n",
       "          comm.onMsg = msg_handler;\n",
       "        });\n",
       "      } else if (typeof google != 'undefined' && google.colab.kernel != null) {\n",
       "        google.colab.kernel.comms.registerTarget(comm_id, (comm) => {\n",
       "          var messages = comm.messages[Symbol.asyncIterator]();\n",
       "          function processIteratorResult(result) {\n",
       "            var message = result.value;\n",
       "            console.log(message)\n",
       "            var content = {data: message.data, comm_id};\n",
       "            var buffers = []\n",
       "            for (var buffer of message.buffers || []) {\n",
       "              buffers.push(new DataView(buffer))\n",
       "            }\n",
       "            var metadata = message.metadata || {};\n",
       "            var msg = {content, buffers, metadata}\n",
       "            msg_handler(msg);\n",
       "            return messages.next().then(processIteratorResult);\n",
       "          }\n",
       "          return messages.next().then(processIteratorResult);\n",
       "        })\n",
       "      }\n",
       "    }\n",
       "\n",
       "    JupyterCommManager.prototype.get_client_comm = function(plot_id, comm_id, msg_handler) {\n",
       "      if (comm_id in window.PyViz.comms) {\n",
       "        return window.PyViz.comms[comm_id];\n",
       "      } else if (window.comm_manager || ((window.Jupyter !== undefined) && (Jupyter.notebook.kernel != null))) {\n",
       "        var comm_manager = window.comm_manager || Jupyter.notebook.kernel.comm_manager;\n",
       "        var comm = comm_manager.new_comm(comm_id, {}, {}, {}, comm_id);\n",
       "        if (msg_handler) {\n",
       "          comm.on_msg(msg_handler);\n",
       "        }\n",
       "      } else if ((plot_id in window.PyViz.kernels) && (window.PyViz.kernels[plot_id])) {\n",
       "        var comm = window.PyViz.kernels[plot_id].connectToComm(comm_id);\n",
       "        comm.open();\n",
       "        if (msg_handler) {\n",
       "          comm.onMsg = msg_handler;\n",
       "        }\n",
       "      } else if (typeof google != 'undefined' && google.colab.kernel != null) {\n",
       "        var comm_promise = google.colab.kernel.comms.open(comm_id)\n",
       "        comm_promise.then((comm) => {\n",
       "          window.PyViz.comms[comm_id] = comm;\n",
       "          if (msg_handler) {\n",
       "            var messages = comm.messages[Symbol.asyncIterator]();\n",
       "            function processIteratorResult(result) {\n",
       "              var message = result.value;\n",
       "              var content = {data: message.data};\n",
       "              var metadata = message.metadata || {comm_id};\n",
       "              var msg = {content, metadata}\n",
       "              msg_handler(msg);\n",
       "              return messages.next().then(processIteratorResult);\n",
       "            }\n",
       "            return messages.next().then(processIteratorResult);\n",
       "          }\n",
       "        }) \n",
       "        var sendClosure = (data, metadata, buffers, disposeOnDone) => {\n",
       "          return comm_promise.then((comm) => {\n",
       "            comm.send(data, metadata, buffers, disposeOnDone);\n",
       "          });\n",
       "        };\n",
       "        var comm = {\n",
       "          send: sendClosure\n",
       "        };\n",
       "      }\n",
       "      window.PyViz.comms[comm_id] = comm;\n",
       "      return comm;\n",
       "    }\n",
       "    window.PyViz.comm_manager = new JupyterCommManager();\n",
       "    \n",
       "\n",
       "\n",
       "var JS_MIME_TYPE = 'application/javascript';\n",
       "var HTML_MIME_TYPE = 'text/html';\n",
       "var EXEC_MIME_TYPE = 'application/vnd.holoviews_exec.v0+json';\n",
       "var CLASS_NAME = 'output';\n",
       "\n",
       "/**\n",
       " * Render data to the DOM node\n",
       " */\n",
       "function render(props, node) {\n",
       "  var div = document.createElement(\"div\");\n",
       "  var script = document.createElement(\"script\");\n",
       "  node.appendChild(div);\n",
       "  node.appendChild(script);\n",
       "}\n",
       "\n",
       "/**\n",
       " * Handle when a new output is added\n",
       " */\n",
       "function handle_add_output(event, handle) {\n",
       "  var output_area = handle.output_area;\n",
       "  var output = handle.output;\n",
       "  if ((output.data == undefined) || (!output.data.hasOwnProperty(EXEC_MIME_TYPE))) {\n",
       "    return\n",
       "  }\n",
       "  var id = output.metadata[EXEC_MIME_TYPE][\"id\"];\n",
       "  var toinsert = output_area.element.find(\".\" + CLASS_NAME.split(' ')[0]);\n",
       "  if (id !== undefined) {\n",
       "    var nchildren = toinsert.length;\n",
       "    var html_node = toinsert[nchildren-1].children[0];\n",
       "    html_node.innerHTML = output.data[HTML_MIME_TYPE];\n",
       "    var scripts = [];\n",
       "    var nodelist = html_node.querySelectorAll(\"script\");\n",
       "    for (var i in nodelist) {\n",
       "      if (nodelist.hasOwnProperty(i)) {\n",
       "        scripts.push(nodelist[i])\n",
       "      }\n",
       "    }\n",
       "\n",
       "    scripts.forEach( function (oldScript) {\n",
       "      var newScript = document.createElement(\"script\");\n",
       "      var attrs = [];\n",
       "      var nodemap = oldScript.attributes;\n",
       "      for (var j in nodemap) {\n",
       "        if (nodemap.hasOwnProperty(j)) {\n",
       "          attrs.push(nodemap[j])\n",
       "        }\n",
       "      }\n",
       "      attrs.forEach(function(attr) { newScript.setAttribute(attr.name, attr.value) });\n",
       "      newScript.appendChild(document.createTextNode(oldScript.innerHTML));\n",
       "      oldScript.parentNode.replaceChild(newScript, oldScript);\n",
       "    });\n",
       "    if (JS_MIME_TYPE in output.data) {\n",
       "      toinsert[nchildren-1].children[1].textContent = output.data[JS_MIME_TYPE];\n",
       "    }\n",
       "    output_area._hv_plot_id = id;\n",
       "    if ((window.Bokeh !== undefined) && (id in Bokeh.index)) {\n",
       "      window.PyViz.plot_index[id] = Bokeh.index[id];\n",
       "    } else {\n",
       "      window.PyViz.plot_index[id] = null;\n",
       "    }\n",
       "  } else if (output.metadata[EXEC_MIME_TYPE][\"server_id\"] !== undefined) {\n",
       "    var bk_div = document.createElement(\"div\");\n",
       "    bk_div.innerHTML = output.data[HTML_MIME_TYPE];\n",
       "    var script_attrs = bk_div.children[0].attributes;\n",
       "    for (var i = 0; i < script_attrs.length; i++) {\n",
       "      toinsert[toinsert.length - 1].childNodes[1].setAttribute(script_attrs[i].name, script_attrs[i].value);\n",
       "    }\n",
       "    // store reference to server id on output_area\n",
       "    output_area._bokeh_server_id = output.metadata[EXEC_MIME_TYPE][\"server_id\"];\n",
       "  }\n",
       "}\n",
       "\n",
       "/**\n",
       " * Handle when an output is cleared or removed\n",
       " */\n",
       "function handle_clear_output(event, handle) {\n",
       "  var id = handle.cell.output_area._hv_plot_id;\n",
       "  var server_id = handle.cell.output_area._bokeh_server_id;\n",
       "  if (((id === undefined) || !(id in PyViz.plot_index)) && (server_id !== undefined)) { return; }\n",
       "  var comm = window.PyViz.comm_manager.get_client_comm(\"hv-extension-comm\", \"hv-extension-comm\", function () {});\n",
       "  if (server_id !== null) {\n",
       "    comm.send({event_type: 'server_delete', 'id': server_id});\n",
       "    return;\n",
       "  } else if (comm !== null) {\n",
       "    comm.send({event_type: 'delete', 'id': id});\n",
       "  }\n",
       "  delete PyViz.plot_index[id];\n",
       "  if ((window.Bokeh !== undefined) & (id in window.Bokeh.index)) {\n",
       "    var doc = window.Bokeh.index[id].model.document\n",
       "    doc.clear();\n",
       "    const i = window.Bokeh.documents.indexOf(doc);\n",
       "    if (i > -1) {\n",
       "      window.Bokeh.documents.splice(i, 1);\n",
       "    }\n",
       "  }\n",
       "}\n",
       "\n",
       "/**\n",
       " * Handle kernel restart event\n",
       " */\n",
       "function handle_kernel_cleanup(event, handle) {\n",
       "  delete PyViz.comms[\"hv-extension-comm\"];\n",
       "  window.PyViz.plot_index = {}\n",
       "}\n",
       "\n",
       "/**\n",
       " * Handle update_display_data messages\n",
       " */\n",
       "function handle_update_output(event, handle) {\n",
       "  handle_clear_output(event, {cell: {output_area: handle.output_area}})\n",
       "  handle_add_output(event, handle)\n",
       "}\n",
       "\n",
       "function register_renderer(events, OutputArea) {\n",
       "  function append_mime(data, metadata, element) {\n",
       "    // create a DOM node to render to\n",
       "    var toinsert = this.create_output_subarea(\n",
       "    metadata,\n",
       "    CLASS_NAME,\n",
       "    EXEC_MIME_TYPE\n",
       "    );\n",
       "    this.keyboard_manager.register_events(toinsert);\n",
       "    // Render to node\n",
       "    var props = {data: data, metadata: metadata[EXEC_MIME_TYPE]};\n",
       "    render(props, toinsert[0]);\n",
       "    element.append(toinsert);\n",
       "    return toinsert\n",
       "  }\n",
       "\n",
       "  events.on('output_added.OutputArea', handle_add_output);\n",
       "  events.on('output_updated.OutputArea', handle_update_output);\n",
       "  events.on('clear_output.CodeCell', handle_clear_output);\n",
       "  events.on('delete.Cell', handle_clear_output);\n",
       "  events.on('kernel_ready.Kernel', handle_kernel_cleanup);\n",
       "\n",
       "  OutputArea.prototype.register_mime_type(EXEC_MIME_TYPE, append_mime, {\n",
       "    safe: true,\n",
       "    index: 0\n",
       "  });\n",
       "}\n",
       "\n",
       "if (window.Jupyter !== undefined) {\n",
       "  try {\n",
       "    var events = require('base/js/events');\n",
       "    var OutputArea = require('notebook/js/outputarea').OutputArea;\n",
       "    if (OutputArea.prototype.mime_types().indexOf(EXEC_MIME_TYPE) == -1) {\n",
       "      register_renderer(events, OutputArea);\n",
       "    }\n",
       "  } catch(err) {\n",
       "  }\n",
       "}\n"
      ],
      "application/vnd.holoviews_load.v0+json": "\nif ((window.PyViz === undefined) || (window.PyViz instanceof HTMLElement)) {\n  window.PyViz = {comms: {}, comm_status:{}, kernels:{}, receivers: {}, plot_index: []}\n}\n\n\n    function JupyterCommManager() {\n    }\n\n    JupyterCommManager.prototype.register_target = function(plot_id, comm_id, msg_handler) {\n      if (window.comm_manager || ((window.Jupyter !== undefined) && (Jupyter.notebook.kernel != null))) {\n        var comm_manager = window.comm_manager || Jupyter.notebook.kernel.comm_manager;\n        comm_manager.register_target(comm_id, function(comm) {\n          comm.on_msg(msg_handler);\n        });\n      } else if ((plot_id in window.PyViz.kernels) && (window.PyViz.kernels[plot_id])) {\n        window.PyViz.kernels[plot_id].registerCommTarget(comm_id, function(comm) {\n          comm.onMsg = msg_handler;\n        });\n      } else if (typeof google != 'undefined' && google.colab.kernel != null) {\n        google.colab.kernel.comms.registerTarget(comm_id, (comm) => {\n          var messages = comm.messages[Symbol.asyncIterator]();\n          function processIteratorResult(result) {\n            var message = result.value;\n            console.log(message)\n            var content = {data: message.data, comm_id};\n            var buffers = []\n            for (var buffer of message.buffers || []) {\n              buffers.push(new DataView(buffer))\n            }\n            var metadata = message.metadata || {};\n            var msg = {content, buffers, metadata}\n            msg_handler(msg);\n            return messages.next().then(processIteratorResult);\n          }\n          return messages.next().then(processIteratorResult);\n        })\n      }\n    }\n\n    JupyterCommManager.prototype.get_client_comm = function(plot_id, comm_id, msg_handler) {\n      if (comm_id in window.PyViz.comms) {\n        return window.PyViz.comms[comm_id];\n      } else if (window.comm_manager || ((window.Jupyter !== undefined) && (Jupyter.notebook.kernel != null))) {\n        var comm_manager = window.comm_manager || Jupyter.notebook.kernel.comm_manager;\n        var comm = comm_manager.new_comm(comm_id, {}, {}, {}, comm_id);\n        if (msg_handler) {\n          comm.on_msg(msg_handler);\n        }\n      } else if ((plot_id in window.PyViz.kernels) && (window.PyViz.kernels[plot_id])) {\n        var comm = window.PyViz.kernels[plot_id].connectToComm(comm_id);\n        comm.open();\n        if (msg_handler) {\n          comm.onMsg = msg_handler;\n        }\n      } else if (typeof google != 'undefined' && google.colab.kernel != null) {\n        var comm_promise = google.colab.kernel.comms.open(comm_id)\n        comm_promise.then((comm) => {\n          window.PyViz.comms[comm_id] = comm;\n          if (msg_handler) {\n            var messages = comm.messages[Symbol.asyncIterator]();\n            function processIteratorResult(result) {\n              var message = result.value;\n              var content = {data: message.data};\n              var metadata = message.metadata || {comm_id};\n              var msg = {content, metadata}\n              msg_handler(msg);\n              return messages.next().then(processIteratorResult);\n            }\n            return messages.next().then(processIteratorResult);\n          }\n        }) \n        var sendClosure = (data, metadata, buffers, disposeOnDone) => {\n          return comm_promise.then((comm) => {\n            comm.send(data, metadata, buffers, disposeOnDone);\n          });\n        };\n        var comm = {\n          send: sendClosure\n        };\n      }\n      window.PyViz.comms[comm_id] = comm;\n      return comm;\n    }\n    window.PyViz.comm_manager = new JupyterCommManager();\n    \n\n\nvar JS_MIME_TYPE = 'application/javascript';\nvar HTML_MIME_TYPE = 'text/html';\nvar EXEC_MIME_TYPE = 'application/vnd.holoviews_exec.v0+json';\nvar CLASS_NAME = 'output';\n\n/**\n * Render data to the DOM node\n */\nfunction render(props, node) {\n  var div = document.createElement(\"div\");\n  var script = document.createElement(\"script\");\n  node.appendChild(div);\n  node.appendChild(script);\n}\n\n/**\n * Handle when a new output is added\n */\nfunction handle_add_output(event, handle) {\n  var output_area = handle.output_area;\n  var output = handle.output;\n  if ((output.data == undefined) || (!output.data.hasOwnProperty(EXEC_MIME_TYPE))) {\n    return\n  }\n  var id = output.metadata[EXEC_MIME_TYPE][\"id\"];\n  var toinsert = output_area.element.find(\".\" + CLASS_NAME.split(' ')[0]);\n  if (id !== undefined) {\n    var nchildren = toinsert.length;\n    var html_node = toinsert[nchildren-1].children[0];\n    html_node.innerHTML = output.data[HTML_MIME_TYPE];\n    var scripts = [];\n    var nodelist = html_node.querySelectorAll(\"script\");\n    for (var i in nodelist) {\n      if (nodelist.hasOwnProperty(i)) {\n        scripts.push(nodelist[i])\n      }\n    }\n\n    scripts.forEach( function (oldScript) {\n      var newScript = document.createElement(\"script\");\n      var attrs = [];\n      var nodemap = oldScript.attributes;\n      for (var j in nodemap) {\n        if (nodemap.hasOwnProperty(j)) {\n          attrs.push(nodemap[j])\n        }\n      }\n      attrs.forEach(function(attr) { newScript.setAttribute(attr.name, attr.value) });\n      newScript.appendChild(document.createTextNode(oldScript.innerHTML));\n      oldScript.parentNode.replaceChild(newScript, oldScript);\n    });\n    if (JS_MIME_TYPE in output.data) {\n      toinsert[nchildren-1].children[1].textContent = output.data[JS_MIME_TYPE];\n    }\n    output_area._hv_plot_id = id;\n    if ((window.Bokeh !== undefined) && (id in Bokeh.index)) {\n      window.PyViz.plot_index[id] = Bokeh.index[id];\n    } else {\n      window.PyViz.plot_index[id] = null;\n    }\n  } else if (output.metadata[EXEC_MIME_TYPE][\"server_id\"] !== undefined) {\n    var bk_div = document.createElement(\"div\");\n    bk_div.innerHTML = output.data[HTML_MIME_TYPE];\n    var script_attrs = bk_div.children[0].attributes;\n    for (var i = 0; i < script_attrs.length; i++) {\n      toinsert[toinsert.length - 1].childNodes[1].setAttribute(script_attrs[i].name, script_attrs[i].value);\n    }\n    // store reference to server id on output_area\n    output_area._bokeh_server_id = output.metadata[EXEC_MIME_TYPE][\"server_id\"];\n  }\n}\n\n/**\n * Handle when an output is cleared or removed\n */\nfunction handle_clear_output(event, handle) {\n  var id = handle.cell.output_area._hv_plot_id;\n  var server_id = handle.cell.output_area._bokeh_server_id;\n  if (((id === undefined) || !(id in PyViz.plot_index)) && (server_id !== undefined)) { return; }\n  var comm = window.PyViz.comm_manager.get_client_comm(\"hv-extension-comm\", \"hv-extension-comm\", function () {});\n  if (server_id !== null) {\n    comm.send({event_type: 'server_delete', 'id': server_id});\n    return;\n  } else if (comm !== null) {\n    comm.send({event_type: 'delete', 'id': id});\n  }\n  delete PyViz.plot_index[id];\n  if ((window.Bokeh !== undefined) & (id in window.Bokeh.index)) {\n    var doc = window.Bokeh.index[id].model.document\n    doc.clear();\n    const i = window.Bokeh.documents.indexOf(doc);\n    if (i > -1) {\n      window.Bokeh.documents.splice(i, 1);\n    }\n  }\n}\n\n/**\n * Handle kernel restart event\n */\nfunction handle_kernel_cleanup(event, handle) {\n  delete PyViz.comms[\"hv-extension-comm\"];\n  window.PyViz.plot_index = {}\n}\n\n/**\n * Handle update_display_data messages\n */\nfunction handle_update_output(event, handle) {\n  handle_clear_output(event, {cell: {output_area: handle.output_area}})\n  handle_add_output(event, handle)\n}\n\nfunction register_renderer(events, OutputArea) {\n  function append_mime(data, metadata, element) {\n    // create a DOM node to render to\n    var toinsert = this.create_output_subarea(\n    metadata,\n    CLASS_NAME,\n    EXEC_MIME_TYPE\n    );\n    this.keyboard_manager.register_events(toinsert);\n    // Render to node\n    var props = {data: data, metadata: metadata[EXEC_MIME_TYPE]};\n    render(props, toinsert[0]);\n    element.append(toinsert);\n    return toinsert\n  }\n\n  events.on('output_added.OutputArea', handle_add_output);\n  events.on('output_updated.OutputArea', handle_update_output);\n  events.on('clear_output.CodeCell', handle_clear_output);\n  events.on('delete.Cell', handle_clear_output);\n  events.on('kernel_ready.Kernel', handle_kernel_cleanup);\n\n  OutputArea.prototype.register_mime_type(EXEC_MIME_TYPE, append_mime, {\n    safe: true,\n    index: 0\n  });\n}\n\nif (window.Jupyter !== undefined) {\n  try {\n    var events = require('base/js/events');\n    var OutputArea = require('notebook/js/outputarea').OutputArea;\n    if (OutputArea.prototype.mime_types().indexOf(EXEC_MIME_TYPE) == -1) {\n      register_renderer(events, OutputArea);\n    }\n  } catch(err) {\n  }\n}\n"
     },
     "metadata": {},
     "output_type": "display_data"
    },
    {
     "data": {
      "text/html": [
       "<style>.bk-root, .bk-root .bk:before, .bk-root .bk:after {\n",
       "  font-family: var(--jp-ui-font-size1);\n",
       "  font-size: var(--jp-ui-font-size1);\n",
       "  color: var(--jp-ui-font-color1);\n",
       "}\n",
       "</style>"
      ]
     },
     "metadata": {},
     "output_type": "display_data"
    },
    {
     "data": {},
     "metadata": {},
     "output_type": "display_data"
    },
    {
     "data": {
      "application/vnd.holoviews_exec.v0+json": "",
      "text/html": [
       "<div id='1002'>\n",
       "  <div class=\"bk-root\" id=\"b79d46a6-5dd8-48b6-a8b8-6648f52b670c\" data-root-id=\"1002\"></div>\n",
       "</div>\n",
       "<script type=\"application/javascript\">(function(root) {\n",
       "  function embed_document(root) {\n",
       "    var docs_json = {\"7f0c5fd0-7137-4416-b61d-ca626e457866\":{\"defs\":[{\"extends\":null,\"module\":null,\"name\":\"ReactiveHTML1\",\"overrides\":[],\"properties\":[]},{\"extends\":null,\"module\":null,\"name\":\"FlexBox1\",\"overrides\":[],\"properties\":[{\"default\":\"flex-start\",\"kind\":null,\"name\":\"align_content\"},{\"default\":\"flex-start\",\"kind\":null,\"name\":\"align_items\"},{\"default\":\"row\",\"kind\":null,\"name\":\"flex_direction\"},{\"default\":\"wrap\",\"kind\":null,\"name\":\"flex_wrap\"},{\"default\":\"flex-start\",\"kind\":null,\"name\":\"justify_content\"}]},{\"extends\":null,\"module\":null,\"name\":\"GridStack1\",\"overrides\":[],\"properties\":[{\"default\":\"warn\",\"kind\":null,\"name\":\"mode\"},{\"default\":null,\"kind\":null,\"name\":\"ncols\"},{\"default\":null,\"kind\":null,\"name\":\"nrows\"},{\"default\":true,\"kind\":null,\"name\":\"allow_resize\"},{\"default\":true,\"kind\":null,\"name\":\"allow_drag\"},{\"default\":[],\"kind\":null,\"name\":\"state\"}]},{\"extends\":null,\"module\":null,\"name\":\"click1\",\"overrides\":[],\"properties\":[{\"default\":\"\",\"kind\":null,\"name\":\"terminal_output\"},{\"default\":\"\",\"kind\":null,\"name\":\"debug_name\"},{\"default\":0,\"kind\":null,\"name\":\"clears\"}]},{\"extends\":null,\"module\":null,\"name\":\"NotificationAreaBase1\",\"overrides\":[],\"properties\":[{\"default\":\"bottom-right\",\"kind\":null,\"name\":\"position\"},{\"default\":0,\"kind\":null,\"name\":\"_clear\"}]},{\"extends\":null,\"module\":null,\"name\":\"NotificationArea1\",\"overrides\":[],\"properties\":[{\"default\":[],\"kind\":null,\"name\":\"notifications\"},{\"default\":\"bottom-right\",\"kind\":null,\"name\":\"position\"},{\"default\":0,\"kind\":null,\"name\":\"_clear\"},{\"default\":[{\"background\":\"#ffc107\",\"icon\":{\"className\":\"fas fa-exclamation-triangle\",\"color\":\"white\",\"tagName\":\"i\"},\"type\":\"warning\"},{\"background\":\"#007bff\",\"icon\":{\"className\":\"fas fa-info-circle\",\"color\":\"white\",\"tagName\":\"i\"},\"type\":\"info\"}],\"kind\":null,\"name\":\"types\"}]},{\"extends\":null,\"module\":null,\"name\":\"Notification\",\"overrides\":[],\"properties\":[{\"default\":null,\"kind\":null,\"name\":\"background\"},{\"default\":3000,\"kind\":null,\"name\":\"duration\"},{\"default\":null,\"kind\":null,\"name\":\"icon\"},{\"default\":\"\",\"kind\":null,\"name\":\"message\"},{\"default\":null,\"kind\":null,\"name\":\"notification_type\"},{\"default\":false,\"kind\":null,\"name\":\"_destroyed\"}]},{\"extends\":null,\"module\":null,\"name\":\"TemplateActions1\",\"overrides\":[],\"properties\":[{\"default\":0,\"kind\":null,\"name\":\"open_modal\"},{\"default\":0,\"kind\":null,\"name\":\"close_modal\"}]},{\"extends\":null,\"module\":null,\"name\":\"MaterialTemplateActions1\",\"overrides\":[],\"properties\":[{\"default\":0,\"kind\":null,\"name\":\"open_modal\"},{\"default\":0,\"kind\":null,\"name\":\"close_modal\"}]}],\"roots\":{\"references\":[{\"attributes\":{\"children\":[{\"id\":\"1003\"},{\"id\":\"1006\"}],\"margin\":[0,0,0,0],\"name\":\"Column00120\"},\"id\":\"1002\",\"type\":\"Column\"},{\"attributes\":{\"client_comm_id\":\"e52a07235bcf4d4f8e83fef539878d29\",\"comm_id\":\"a092ef4beea048189ac2ca361d41f372\",\"plot_id\":\"1002\"},\"id\":\"1011\",\"type\":\"panel.models.comm_manager.CommManager\"},{\"attributes\":{\"margin\":[5,0,0,10],\"name\":\"\",\"style\":{\"white-space\":\"nowrap\"},\"text\":\"<b>0</b>\"},\"id\":\"1004\",\"type\":\"Div\"},{\"attributes\":{\"end\":1,\"js_property_callbacks\":{\"change:value\":[{\"id\":\"1010\"}]},\"margin\":[0,10,5,10],\"show_value\":false,\"start\":0,\"tooltips\":false,\"value\":0},\"id\":\"1005\",\"type\":\"Slider\"},{\"attributes\":{\"height\":224,\"margin\":[5,5,5,5],\"name\":\"PNG00114\",\"text\":\"&lt;img src=&quot;data:image/png;base64,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&quot; width=&quot;224px&quot; height=&quot;224px&quot; alt=&quot;&quot;&gt;&lt;/img&gt;\",\"width\":224},\"id\":\"1008\",\"type\":\"panel.models.markup.HTML\"},{\"attributes\":{\"args\":{\"bidirectional\":false,\"properties\":{},\"source\":{\"id\":\"1005\"},\"target\":{\"id\":\"1004\"}},\"code\":\"try { \\n    var labels = ['<b>0</b>', '<b>1</b>']\\n    target.text = labels[source.value]\\n     } catch(err) { console.log(err) }\",\"tags\":[[140304179780576,[null,\"value\"],[null,null]]]},\"id\":\"1010\",\"type\":\"CustomJS\"},{\"attributes\":{\"children\":[{\"id\":\"1007\"}],\"margin\":[0,0,0,0],\"name\":\"Row00113\"},\"id\":\"1006\",\"type\":\"Row\"},{\"attributes\":{\"margin\":[5,5,5,5],\"name\":\"DataFrame00116\",\"text\":\"&lt;table border=&quot;0&quot; class=&quot;dataframe panel-df&quot;&gt;\\n  &lt;thead&gt;\\n    &lt;tr style=&quot;text-align: right;&quot;&gt;\\n      &lt;th&gt;&lt;/th&gt;\\n      &lt;th&gt;0&lt;/th&gt;\\n    &lt;/tr&gt;\\n  &lt;/thead&gt;\\n  &lt;tbody&gt;\\n    &lt;tr&gt;\\n      &lt;th&gt;y_true&lt;/th&gt;\\n      &lt;td&gt;PAGE + FOLIO&lt;/td&gt;\\n    &lt;/tr&gt;\\n    &lt;tr&gt;\\n      &lt;th&gt;y_pred&lt;/th&gt;\\n      &lt;td&gt;FLYSHEET&lt;/td&gt;\\n    &lt;/tr&gt;\\n    &lt;tr&gt;\\n      &lt;th&gt;y_prob&lt;/th&gt;\\n      &lt;td&gt;0.891519&lt;/td&gt;\\n    &lt;/tr&gt;\\n  &lt;/tbody&gt;\\n&lt;/table&gt;\"},\"id\":\"1009\",\"type\":\"panel.models.markup.HTML\"},{\"attributes\":{\"children\":[{\"id\":\"1004\"},{\"id\":\"1005\"}],\"margin\":[0,0,0,0],\"name\":\"Column00106\"},\"id\":\"1003\",\"type\":\"Column\"},{\"attributes\":{\"reload\":false},\"id\":\"1012\",\"type\":\"panel.models.location.Location\"},{\"attributes\":{\"children\":[{\"id\":\"1008\"},{\"id\":\"1009\"}],\"margin\":[0,0,0,0],\"name\":\"Row00118\"},\"id\":\"1007\",\"type\":\"Row\"}],\"root_ids\":[\"1002\",\"1011\",\"1012\"]},\"title\":\"Bokeh Application\",\"version\":\"2.4.3\"}};\n",
       "    var render_items = [{\"docid\":\"7f0c5fd0-7137-4416-b61d-ca626e457866\",\"root_ids\":[\"1002\"],\"roots\":{\"1002\":\"b79d46a6-5dd8-48b6-a8b8-6648f52b670c\"}}];\n",
       "    root.Bokeh.embed.embed_items_notebook(docs_json, render_items);\n",
       "  }\n",
       "  if (root.Bokeh !== undefined && root.Bokeh.Panel !== undefined) {\n",
       "    embed_document(root);\n",
       "  } else {\n",
       "    var attempts = 0;\n",
       "    var timer = setInterval(function(root) {\n",
       "      if (root.Bokeh !== undefined && root.Bokeh.Panel !== undefined) {\n",
       "        clearInterval(timer);\n",
       "        embed_document(root);\n",
       "      } else if (document.readyState == \"complete\") {\n",
       "        attempts++;\n",
       "        if (attempts > 200) {\n",
       "          clearInterval(timer);\n",
       "          console.log(\"Bokeh: ERROR: Unable to run BokehJS code because BokehJS library is missing\");\n",
       "        }\n",
       "      }\n",
       "    }, 25, root)\n",
       "  }\n",
       "})(window);</script>"
      ],
      "text/plain": [
       "Column\n",
       "    [0] DiscreteSlider(formatter='%d', options=[0, 1], value=0)\n",
       "    [1] ParamFunction(function)"
      ]
     },
     "execution_count": null,
     "metadata": {
      "application/vnd.holoviews_exec.v0+json": {
       "id": "1002"
      }
     },
     "output_type": "execute_result"
    }
   ],
   "source": [
    "create_mistakes_image_navigator(report_df, flyswot_data, trainer)"
   ]
  },
  {
   "cell_type": "code",
   "execution_count": null,
   "metadata": {},
   "outputs": [],
   "source": []
  },
  {
   "cell_type": "code",
   "execution_count": null,
   "metadata": {},
   "outputs": [],
   "source": []
  },
  {
   "cell_type": "markdown",
   "metadata": {},
   "source": [
    "## Push model to the hub? \n",
    "\n",
    "Once we have explored some of the model behaviour above we *should* have a better sense of whether it's a good model for our particular use case. In particular, we may explore how the model performs on one particular label."
   ]
  },
  {
   "cell_type": "code",
   "execution_count": null,
   "metadata": {},
   "outputs": [],
   "source": []
  },
  {
   "cell_type": "code",
   "execution_count": null,
   "metadata": {},
   "outputs": [],
   "source": [
    "trainer.push_to_hub(\"finshed training\")"
   ]
  },
  {
   "cell_type": "markdown",
   "metadata": {},
   "source": [
    "## TODOs\n",
    "- generate a model card automagically based on some of the metric results already included \n",
    "\n"
   ]
  }
 ],
 "metadata": {
  "kernelspec": {
   "display_name": "Python 3 (ipykernel)",
   "language": "python",
   "name": "python3"
  }
 },
 "nbformat": 4,
 "nbformat_minor": 4
}
