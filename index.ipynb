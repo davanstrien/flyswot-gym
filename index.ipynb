{
 "cells": [
  {
   "cell_type": "code",
   "execution_count": null,
   "metadata": {},
   "outputs": [],
   "source": [
    "#hide\n",
    "from flyswot_gym.core import *"
   ]
  },
  {
   "cell_type": "markdown",
   "metadata": {},
   "source": [
    "# flyswot-gym 🦾\n",
    "\n",
    "> “When you go through hardships and decide not to surrender, that is strength.” - Arnold Schwarzenegger"
   ]
  },
  {
   "cell_type": "markdown",
   "metadata": {},
   "source": [
    "`flyswot-gym` is a set of functions for helping to train [`flyswot`](github.com/davanstrien/flyswot/) models. "
   ]
  },
  {
   "cell_type": "markdown",
   "metadata": {},
   "source": [
    "<a href=\"https://colab.research.google.com/github/davanstrien/flyswot-gym/blob/master/flyswot_gym.ipynb\" target=\"_parent\"><img src=\"https://colab.research.google.com/assets/colab-badge.svg\" alt=\"Open In Colab\"/></a>"
   ]
  },
  {
   "cell_type": "markdown",
   "metadata": {},
   "source": [
    "`pip install git+https://github.com/davanstrien/flyswot-gym.git`"
   ]
  }
 ],
 "metadata": {
  "kernelspec": {
   "display_name": "Python 3 (ipykernel)",
   "language": "python",
   "name": "python3"
  }
 },
 "nbformat": 4,
 "nbformat_minor": 4
}
