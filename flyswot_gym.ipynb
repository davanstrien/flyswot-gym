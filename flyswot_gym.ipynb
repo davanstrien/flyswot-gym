{
  "cells": [
    {
      "cell_type": "markdown",
      "metadata": {
        "id": "view-in-github",
        "colab_type": "text"
      },
      "source": [
        "<a href=\"https://colab.research.google.com/github/davanstrien/flyswot-gym/blob/master/flyswot_gym.ipynb\" target=\"_parent\"><img src=\"https://colab.research.google.com/assets/colab-badge.svg\" alt=\"Open In Colab\"/></a>"
      ]
    },
    {
      "cell_type": "markdown",
      "metadata": {
        "id": "Hx5TDAdSlZx9"
      },
      "source": [
        "# flyswot-gym 🦾\n",
        "\n",
        "This notebook moves through the steps involved in training/updating a flyswot model. \n",
        "\n",
        "> This notebook assumes you have already updated the flysheet `dataset` (see the [flyswot-gym](https://github.com/davanstrien/flyswot-gym) repository for guidance on doing this.). \n",
        "\n",
        "The notebook goes through the following steps:\n",
        "- downloading the training data\n",
        "- preparing the dataset for training the model\n",
        "- training the model \n",
        "- evaluating the model in various ways\n",
        "- making a decision about whether to save the model \n",
        "- uploading the model to the 🤗 hub\n",
        "\n",
        "**Note: this notebook is a WIP, things might change or not work properly**"
      ]
    },
    {
      "cell_type": "code",
      "execution_count": null,
      "metadata": {
        "id": "fzNkb-jclZyD"
      },
      "outputs": [],
      "source": [
        "#@title Setup git and git-lfs\n",
        "!apt install git-lfs && git init && git lfs install \n",
        "!git config --global credential.helper store"
      ]
    },
    {
      "cell_type": "code",
      "execution_count": null,
      "metadata": {
        "id": "XhDF2OaMlZyF"
      },
      "outputs": [],
      "source": [
        "#@title Install flyswot-gym\n",
        "!pip -q install git+https://github.com/davanstrien/flyswot-gym.git"
      ]
    },
    {
      "cell_type": "code",
      "execution_count": null,
      "metadata": {
        "id": "otjQ0aOnlZyS"
      },
      "outputs": [],
      "source": [
        "from huggingface_hub import notebook_login\n",
        "from huggingface_hub import hf_api\n",
        "import torch"
      ]
    },
    {
      "cell_type": "markdown",
      "metadata": {
        "id": "qZU_6X2DlZyT"
      },
      "source": [
        "### Check for we have a GPU available\n",
        "\n",
        "Google Colab gives us the option of running our code on a GPU. This is important for speeding up our training process. If the below cell fails check you have a GPU enabled. Sometimes you may have to wait a little while for Colab to have GPUs available. \n"
      ]
    },
    {
      "cell_type": "code",
      "execution_count": null,
      "metadata": {
        "id": "5Yt3dr7HlZyT"
      },
      "outputs": [],
      "source": [
        "assert torch.cuda.is_available()"
      ]
    },
    {
      "cell_type": "markdown",
      "metadata": {
        "id": "oMQgOpMxlZyU"
      },
      "source": [
        "## Define some training options\n",
        "\n",
        "We define some different training options. The first `model_checkpoint` refers to the model we *start* our training from. This is setup to use an existing flyswot model by default. If you have made massive changes to the data, or are training on a new task you may want to change this model to another model. Any `image-classification` [model](https://huggingface.co/models?pipeline_tag=image-classification) *should* work. A safe bet is to start with `facebook/convnext-tiny-224`. To use any of these models pass in the Hub id. You can get this from the top of a model page on the hub by clicking on the double square icon\n",
        "\n",
        "![Screenshot 2022-06-15 at 13.48.08.png](attachment:1a28b6b0-be01-40f3-bdf8-7e9c2889c2c3.png)\n",
        "\n",
        "The other options are `training_dataset` this should point to a dataset you've uploaded using `hugit`. \n",
        "\n",
        "The number of epochs defines how long you will train your model for. If you are fine tuning an existing flyswot model you won't need to change this much but if you are training something new you will want to increase this value. "
      ]
    },
    {
      "cell_type": "code",
      "execution_count": null,
      "metadata": {
        "id": "4FOb3pyolZyV"
      },
      "outputs": [],
      "source": [
        "#@title Define training options\n",
        "model_checkpoint = 'flyswot/convnext-tiny-224_flyswot' #@param [\"flyswot/convnext-tiny-224_flyswot\", \"davanstrien/deit_flyswot\"] {allow-input: true}\n",
        "training_dataset = \"davanstrien/hugit_hmd_flysheet\" #@param [\"flyswot/flysheet_data\"] {allow-input: true}\n",
        "number_of_epochs = 10 #@param {type:\"slider\", min:10, max:100, step:1}"
      ]
    },
    {
      "cell_type": "markdown",
      "metadata": {
        "id": "whTgPGgKlZyW"
      },
      "source": [
        "## Tips\n",
        "\n",
        "This notebook attempts to make the process of training/updating a model easier. This is partially done by creating some functions that do a bunch of different steps for you. In this notebook we often just call these functions. This means we see a couple of lines of code instead of a whole bunch of code. However, nothing is supposed to be hidden or magical because of this. If you want to know what a particular function is doing you can use a handy feature inside notebook to see what some code does. \n",
        "Placing `??` will show the source code for a function, for example, we can take a look at what `prep_data` is doing:"
      ]
    },
    {
      "cell_type": "code",
      "execution_count": null,
      "metadata": {
        "id": "MSTGhXvElZyX"
      },
      "outputs": [],
      "source": [
        "from flyswot_gym.core import prep_data"
      ]
    },
    {
      "cell_type": "code",
      "execution_count": null,
      "metadata": {
        "id": "IL0oyDThlZyY"
      },
      "outputs": [],
      "source": [
        "??prep_data"
      ]
    },
    {
      "cell_type": "markdown",
      "metadata": {
        "id": "e50xoGBmlZyZ"
      },
      "source": [
        "This means firstly that you can see more clearly what is happening but also if you feel like it's doing the wrong thing you can copy the code an update how that step of the notebook happens. "
      ]
    },
    {
      "cell_type": "markdown",
      "metadata": {
        "id": "bzDDl5-TlZyZ"
      },
      "source": [
        "# Login to the 🤗 hub \n",
        "\n",
        "Since we're using private datasets and we want to have the option of pushing our models to the 🤗 hub we ned to ensure we are logged in."
      ]
    },
    {
      "cell_type": "code",
      "execution_count": null,
      "metadata": {
        "id": "Hm5ssJ8alZya"
      },
      "outputs": [],
      "source": [
        "notebook_login()"
      ]
    },
    {
      "cell_type": "code",
      "execution_count": null,
      "metadata": {
        "id": "LjXSHNkflZya"
      },
      "outputs": [],
      "source": [
        "api = hf_api.HfApi()\n",
        "assert api._validate_or_retrieve_token()[0], \"not logged in! Please try cell above again\""
      ]
    },
    {
      "cell_type": "markdown",
      "metadata": {
        "id": "zxKC5BfClZya"
      },
      "source": [
        "## Setup training data\n",
        "\n",
        "This part of the notebook setups the training data for our model. The way in which the data is processed changes depending on our model which is why we need to pass in `model_checkpoint`. "
      ]
    },
    {
      "cell_type": "code",
      "execution_count": null,
      "metadata": {
        "id": "CdqcUzgalZyb"
      },
      "outputs": [],
      "source": [
        "from flyswot_gym.core import prep_data"
      ]
    },
    {
      "cell_type": "code",
      "execution_count": null,
      "metadata": {
        "id": "sxHvaFtKlZyb"
      },
      "outputs": [],
      "source": [
        "flyswot_data = prep_data(training_dataset, model_checkpoint=model_checkpoint)"
      ]
    },
    {
      "cell_type": "code",
      "execution_count": null,
      "metadata": {
        "id": "QwHwqrWIlZyb"
      },
      "outputs": [],
      "source": [
        "assert flyswot_data, \"make sure you have loaded data sucessfully\""
      ]
    },
    {
      "cell_type": "markdown",
      "metadata": {
        "id": "CweA3anwlZyb"
      },
      "source": [
        "## Model training \n",
        "We now have our data ready, next we train a model. By default this will use the paramters we chose earlier but we can switch this around if needed. The `hub_model_id` variable defines what name our model will be saved as on the Hugging Face hub. This defaults to \"flyswot\". "
      ]
    },
    {
      "cell_type": "code",
      "execution_count": null,
      "metadata": {
        "id": "X8TLug7dlZyc"
      },
      "outputs": [],
      "source": [
        "from flyswot_gym import core"
      ]
    },
    {
      "cell_type": "code",
      "execution_count": null,
      "metadata": {
        "id": "npI5TYoqlZyc"
      },
      "outputs": [],
      "source": [
        "trainer = core.train_model(flyswot_data,\n",
        "                           model_checkpoint, \n",
        "                           num_epochs=num_epochs)"
      ]
    },
    {
      "cell_type": "markdown",
      "metadata": {
        "id": "mVXNPDYdlZyd"
      },
      "source": [
        "# Inspecting model results\n",
        "\n",
        "This section is a WIP!\n",
        "\n",
        "We have a model. No we want to know if it's any good. There are various ways in which we can explore this. First we can use the `trainer.predict` method to run our model against some test data."
      ]
    },
    {
      "cell_type": "code",
      "execution_count": null,
      "metadata": {
        "id": "Sc4u4RaolZyd"
      },
      "outputs": [],
      "source": [
        "outputs = trainer.predict(flyswot_data.test_ds)"
      ]
    },
    {
      "cell_type": "markdown",
      "metadata": {
        "id": "fm1ZX1HplZyd"
      },
      "source": [
        "This output variable includes metrics for how our model performs on our test data."
      ]
    },
    {
      "cell_type": "code",
      "execution_count": null,
      "metadata": {
        "id": "c3Si8nxRlZyd"
      },
      "outputs": [],
      "source": [
        "outputs.metrics"
      ]
    },
    {
      "cell_type": "code",
      "execution_count": null,
      "metadata": {
        "id": "_YQTlUh8lZye"
      },
      "outputs": [],
      "source": [
        "import pandas as pd"
      ]
    },
    {
      "cell_type": "code",
      "execution_count": null,
      "metadata": {
        "id": "xP38tdDBlZye"
      },
      "outputs": [],
      "source": [
        "pd.DataFrame.from_dict(outputs.metrics,orient='index',columns=['score'])"
      ]
    },
    {
      "cell_type": "code",
      "execution_count": null,
      "metadata": {
        "id": "sjH-PbqtlZye"
      },
      "outputs": [],
      "source": [
        ""
      ]
    },
    {
      "cell_type": "code",
      "execution_count": null,
      "metadata": {
        "id": "GG7cj0bUlZye"
      },
      "outputs": [],
      "source": [
        "from sklearn.metrics import classification_report\n",
        "y_true = outputs.label_ids\n",
        "y_pred = outputs.predictions.argmax(1)\n",
        "print(classification_report(y_true, y_pred, target_names=flyswot_data.train_ds.features['label'].names))"
      ]
    },
    {
      "cell_type": "code",
      "execution_count": null,
      "metadata": {
        "id": "GO4H4EJ3lZye"
      },
      "outputs": [],
      "source": [
        "from flyswot_gym.core import plot_confusion_matrix"
      ]
    },
    {
      "cell_type": "code",
      "execution_count": null,
      "metadata": {
        "id": "O4IdyI1ilZye"
      },
      "outputs": [],
      "source": [
        "plot_confusion_matrix(outputs,trainer=trainer)"
      ]
    },
    {
      "cell_type": "code",
      "execution_count": null,
      "metadata": {
        "id": "cmMXpSo-lZye"
      },
      "outputs": [],
      "source": [
        ""
      ]
    },
    {
      "cell_type": "code",
      "execution_count": null,
      "metadata": {
        "id": "agzoXURulZyf"
      },
      "outputs": [],
      "source": [
        ""
      ]
    },
    {
      "cell_type": "code",
      "execution_count": null,
      "metadata": {
        "id": "u9NS9v43lZyf"
      },
      "outputs": [],
      "source": [
        "from flyswot_gym.core import create_test_results_df"
      ]
    },
    {
      "cell_type": "code",
      "execution_count": null,
      "metadata": {
        "id": "prFGMKxGlZyf"
      },
      "outputs": [],
      "source": [
        "report_df = create_test_results_df(outputs,trainer, important_label='FLYSHEET', print_results=True,return_df=True)"
      ]
    },
    {
      "cell_type": "code",
      "execution_count": null,
      "metadata": {
        "id": "KiLqkxPZlZyg"
      },
      "outputs": [],
      "source": [
        "mistakes_df = report_df[report_df.y_true != report_df.y_pred]"
      ]
    },
    {
      "cell_type": "code",
      "execution_count": null,
      "metadata": {
        "id": "TDD275XylZyg"
      },
      "outputs": [],
      "source": [
        "mistakes_df['y_prob'].max()"
      ]
    },
    {
      "cell_type": "code",
      "execution_count": null,
      "metadata": {
        "id": "jJZKLuZHlZyg"
      },
      "outputs": [],
      "source": [
        "from flyswot_gym.core import create_mistakes_image_navigator"
      ]
    },
    {
      "cell_type": "code",
      "execution_count": null,
      "metadata": {
        "id": "GMZS1Km6lZyg"
      },
      "outputs": [],
      "source": [
        ""
      ]
    },
    {
      "cell_type": "code",
      "execution_count": null,
      "metadata": {
        "id": "6X6_TeWSlZyg"
      },
      "outputs": [],
      "source": [
        "create_mistakes_image_navigator(report_df, flyswot_data, trainer)"
      ]
    },
    {
      "cell_type": "code",
      "execution_count": null,
      "metadata": {
        "id": "xKOCj_nzlZyh"
      },
      "outputs": [],
      "source": [
        ""
      ]
    },
    {
      "cell_type": "code",
      "execution_count": null,
      "metadata": {
        "id": "hA66RQfClZyh"
      },
      "outputs": [],
      "source": [
        ""
      ]
    },
    {
      "cell_type": "markdown",
      "metadata": {
        "id": "olOHkgYMlZyh"
      },
      "source": [
        "## Push model to the hub? \n",
        "\n",
        "Once we have explored some of the model behaviour above we *should* have a better sense of whether it's a good model for our particular use case. In particular, we may explore how the model performs on one particular label."
      ]
    },
    {
      "cell_type": "code",
      "execution_count": null,
      "metadata": {
        "id": "JERXi5IplZyh"
      },
      "outputs": [],
      "source": [
        ""
      ]
    },
    {
      "cell_type": "code",
      "execution_count": null,
      "metadata": {
        "id": "LbJuW05PlZyh"
      },
      "outputs": [],
      "source": [
        "trainer.push_to_hub(\"finshed training\")"
      ]
    },
    {
      "cell_type": "markdown",
      "metadata": {
        "id": "rub0RlNdlZyh"
      },
      "source": [
        "## TODOs\n",
        "- generate a model card automagically based on some of the metric results already included \n",
        "\n"
      ]
    }
  ],
  "metadata": {
    "kernelspec": {
      "display_name": "Python 3 (ipykernel)",
      "language": "python",
      "name": "python3"
    },
    "colab": {
      "name": "flyswot_gym.ipynb",
      "provenance": [],
      "include_colab_link": true
    }
  },
  "nbformat": 4,
  "nbformat_minor": 0
}